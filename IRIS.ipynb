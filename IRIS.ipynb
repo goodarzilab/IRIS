{
 "cells": [
  {
   "cell_type": "markdown",
   "metadata": {},
   "source": [
    "## IRIS analysis"
   ]
  },
  {
   "cell_type": "markdown",
   "metadata": {},
   "source": [
    "Create a bed file that tiles every gene, on the antisense strand, in 500nt increments (250nt step-size)."
   ]
  },
  {
   "cell_type": "code",
   "execution_count": null,
   "metadata": {},
   "outputs": [],
   "source": [
    "ls -al genome"
   ]
  },
  {
   "cell_type": "code",
   "execution_count": null,
   "metadata": {},
   "outputs": [],
   "source": [
    "%%bash\n",
    "head Human.GRC38.96_cDNA_longest_CDS.fa"
   ]
  },
  {
   "cell_type": "code",
   "execution_count": 12,
   "metadata": {},
   "outputs": [],
   "source": [
    "import sys \n",
    "import os \n",
    "import subprocess \n",
    "import pandas as pd \n",
    "import numpy as np \n",
    "from Bio import SeqIO \n",
    "import gzip \n",
    "from glob import glob \n",
    "import re "
   ]
  },
  {
   "cell_type": "code",
   "execution_count": null,
   "metadata": {},
   "outputs": [],
   "source": [
    "with open(\"genome/Human.GRC38.96_cDNA_longest_CDS.fa\", \"rt\") as handle, open(\"genome/Human.GRC38.96_antisense.bed\", \"wt\") as bed:\n",
    "    for record in SeqIO.parse(handle, \"fasta\"):\n",
    "        #print(record.id, len(record.seq))\n",
    "        for k,i in enumerate(range(0,len(record.seq)-250,250)):\n",
    "            bed.write(\"{}\\t{}\\t{}\\t{}-{}\\t1\\t-\\n\".format(record.id, i, min(i+500, len(record.seq)), record.id, k+1))"
   ]
  },
  {
   "cell_type": "code",
   "execution_count": null,
   "metadata": {},
   "outputs": [],
   "source": [
    "%%bash\n",
    "head genome/Human.GRC38.96_antisense.bed"
   ]
  },
  {
   "cell_type": "markdown",
   "metadata": {},
   "source": [
    "## GROseq data\n",
    "Analyze GROseq data from MDA-MB-231 cells (two replicate experiments)."
   ]
  },
  {
   "cell_type": "code",
   "execution_count": null,
   "metadata": {},
   "outputs": [],
   "source": [
    "%%bash\n",
    "samtools view GROseq/MDA_GROseq_r1.bam | awk '{if($2==0) print}' | cut -f3 | sort | uniq -c |  awk '{ print $2 \"\\t\" $1}' > GROseq/MDA_GROseq_r1.sense.gene.cnt\n",
    "samtools view GROseq/MDA_GROseq_r2.bam | awk '{if($2==0) print}' | cut -f3 | sort | uniq -c |  awk '{ print $2 \"\\t\" $1}' > GROseq/MDA_GROseq_r2.sense.gene.cnt\n",
    "samtools view GROseq/MDA_GROseq_r1.bam | awk '{if($2==16) print}' | cut -f3 | sort | uniq -c |  awk '{ print $2 \"\\t\" $1}' > GROseq/MDA_GROseq_r1.antisense.gene.cnt\n",
    "samtools view GROseq/MDA_GROseq_r2.bam | awk '{if($2==16) print}' | cut -f3 | sort | uniq -c |  awk '{ print $2 \"\\t\" $1}' > GROseq/MDA_GROseq_r2.antisense.gene.cnt"
   ]
  },
  {
   "cell_type": "code",
   "execution_count": null,
   "metadata": {},
   "outputs": [],
   "source": [
    "%%bash\n",
    "bamToBed -i GROseq/MDA_GROseq_r1.bam > GROseq/MDA_GROseq_r1.bed\n",
    "bamToBed -i GROseq/MDA_GROseq_r2.bam > GROseq/MDA_GROseq_r2.bed"
   ]
  },
  {
   "cell_type": "code",
   "execution_count": null,
   "metadata": {},
   "outputs": [],
   "source": [
    "%%bash\n",
    "intersectBed -f 1 -S -wo -a GROseq/MDA_GROseq_r1.bed -b genome/Human.GRC38.96_antisense_frags.bed | cut -f10 | sort | uniq -c |  awk '{ print $2 \"\\t\" $1}' > GROseq/MDA_GROseq_r1.sense.frag.cnt\n",
    "intersectBed -f 1 -S -wo -a GROseq/MDA_GROseq_r2.bed -b genome/Human.GRC38.96_antisense_frags.bed | cut -f10 | sort | uniq -c |  awk '{ print $2 \"\\t\" $1}' > GROseq/MDA_GROseq_r2.sense.frag.cnt\n",
    "intersectBed -f 1 -s -wo -a GROseq/MDA_GROseq_r1.bed -b genome/Human.GRC38.96_antisense_frags.bed | cut -f10 | sort | uniq -c |  awk '{ print $2 \"\\t\" $1}' > GROseq/MDA_GROseq_r1.antisense.frag.cnt\n",
    "intersectBed -f 1 -s -wo -a GROseq/MDA_GROseq_r2.bed -b genome/Human.GRC38.96_antisense_frags.bed | cut -f10 | sort | uniq -c |  awk '{ print $2 \"\\t\" $1}' > GROseq/MDA_GROseq_r2.antisense.frag.cnt"
   ]
  },
  {
   "cell_type": "code",
   "execution_count": 1,
   "metadata": {},
   "outputs": [
    {
     "name": "stderr",
     "output_type": "stream",
     "text": [
      "/avicenna/hani/anaconda3/lib/python3.6/site-packages/rpy2/robjects/pandas2ri.py:17: FutureWarning: pandas.core.index is deprecated and will be removed in a future version.  The public classes are available in the top-level namespace.\n",
      "  from pandas.core.index import Index as PandasIndex\n"
     ]
    }
   ],
   "source": [
    "%load_ext rpy2.ipython\n",
    "import warnings\n",
    "warnings.filterwarnings('ignore')"
   ]
  },
  {
   "cell_type": "code",
   "execution_count": null,
   "metadata": {},
   "outputs": [],
   "source": [
    "%%R -o frag.df\n",
    "files <- list.files(\"./GROseq\", pattern=\".frag.cnt$\")\n",
    "files <- paste0(\"./GROseq/\", files)\n",
    "datalist <- lapply(files, function(x){read.table(file=x,header=FALSE,col.names=c(\"frag\", sub(\"./GROseq/(\\\\S+)\\\\.cnt\", \"\\\\1\", x)))})\n",
    "m <- Reduce(function(...) merge(..., by=1, all = TRUE), datalist)\n",
    "rownames(m) <- m[,1]\n",
    "m <- m[,-1]\n",
    "m[is.na(m)]<-0\n",
    "tmp <- m\n",
    "tmp[tmp>0] <- 1\n",
    "frag.df <- data.frame(m[rowSums(tmp)==4,])\n",
    "frag.df$frag <- rownames(frag.df)\n",
    "head(frag.df)"
   ]
  },
  {
   "cell_type": "code",
   "execution_count": null,
   "metadata": {},
   "outputs": [],
   "source": [
    "%%R -o gene.df\n",
    "files <- list.files(\"./GROseq\", pattern=\"gene.cnt$\")\n",
    "files <- paste0(\"./GROseq/\", files)\n",
    "datalist <- lapply(files, function(x){read.table(file=x,header=FALSE,col.names=c(\"frag\", sub(\"./GROseq/(\\\\S+)\\\\.cnt\", \"\\\\1\", x)))})\n",
    "m <- Reduce(function(...) merge(..., by=1, all = TRUE), datalist)\n",
    "rownames(m) <- m[,1]\n",
    "m <- m[,-1]\n",
    "m[is.na(m)]<-0\n",
    "tmp <- m\n",
    "tmp[tmp>0] <- 1\n",
    "gene.df <- data.frame(m[rowSums(tmp)==4,])\n",
    "gene.df$gene <- rownames(gene.df)\n",
    "head(gene.df)"
   ]
  },
  {
   "cell_type": "code",
   "execution_count": null,
   "metadata": {},
   "outputs": [],
   "source": [
    "%%R -i frag.df,gene.df -o merged.df\n",
    "library(tidyverse)\n",
    "frag.df$gene <- gsub(\"-\\\\d+$\", \"\", frag.df$frag)\n",
    "\n",
    "merged.df <- frag.df %>% inner_join(gene.df, by=\"gene\")\n",
    "merged.df <- merged.df[,c(5,1,2,3,4,7,8,9,10)]\n",
    "merged.df[,6] <- merged.df[,6]-merged.df[,2]\n",
    "merged.df[,7] <- merged.df[,7]-merged.df[,3]\n",
    "merged.df[,8] <- merged.df[,8]-merged.df[,4]\n",
    "merged.df[,9] <- merged.df[,9]-merged.df[,5]\n",
    "head(merged.df)"
   ]
  },
  {
   "cell_type": "code",
   "execution_count": null,
   "metadata": {},
   "outputs": [],
   "source": [
    "%%R -i merged.df -o fit.s\n",
    "logit.all<-function(x, design, model, feature.list){\n",
    "  logit.all.gene<-function(m){\n",
    "    prep<-data.frame(design,m)\n",
    "    fit<-glm(model, data=prep, family=\"binomial\"(link=\"logit\"), weights = m)\n",
    "    sfit<<-summary(fit)\n",
    "    return(c(t(sfit$coefficients)))\n",
    "  }\n",
    "  logit.all.gene_try<-function(m){\n",
    "    out<-tryCatch(\n",
    "      {\n",
    "        result_logistic<-logit.all.gene(m)\n",
    "      },\n",
    "      error=function(cond){\n",
    "        return(rep(NA, times=8))\n",
    "      }\n",
    "    )\n",
    "    return(out)\n",
    "  }\n",
    "  logit.x<-t(apply(x, 1, logit.all.gene_try))\n",
    "  colnames(logit.x)<-apply(expand.grid(colnames(sfit$coefficients), rownames(sfit$coefficients)), 1, paste, collapse=\".\")\n",
    "  rownames(logit.x)<-feature.list\n",
    "  return(logit.x)\n",
    "}\n",
    "\n",
    "meta <- data.frame( do.call( rbind, strsplit( colnames(merged.df), '\\\\.' )[-1] ) )\n",
    "colnames(meta) <- c('sample', 'strand', 'feature.type')\n",
    "meta$feature.type <- factor(meta$feature.type)\n",
    "meta$feature.type <- relevel(meta$feature.type, ref='gene')\n",
    "meta$strand <- factor(meta$strand)\n",
    "meta$strand <- relevel(meta$strand, ref='sense')\n",
    "\n",
    "fit <- logit.all( merged.df[,-1], meta, feature.type~strand,  merged.df$frag)\n",
    "fit.s <- fit[,c(5,8)]\n",
    "colnames(fit.s) <- c(\"logASR\", \"P\")\n",
    "fit.s <- cbind(fit.s, p.adjust(fit.s[,'P'], method=\"fdr\"))\n",
    "colnames(fit.s) <- c(\"logASR\", \"P\", \"q\")\n",
    "write.table(fit.s, \"GROseq/frag_gene_logASR_logit.txt\", quote = F, sep=\"\\t\", row.names = T, col.names =NA) #ASR=antisense-sense ratio aka enrichment score\n",
    "fit.s <- as.data.frame(fit.s)\n",
    "fit.s$frag <- rownames(fit.s)\n",
    "head(fit)"
   ]
  },
  {
   "cell_type": "code",
   "execution_count": 38,
   "metadata": {},
   "outputs": [
    {
     "data": {
      "image/png": "[encoded data removed]"
     },
     "metadata": {},
     "output_type": "display_data"
    }
   ],
   "source": [
    "%%R\n",
    "library(tidyverse)\n",
    "m <- read_tsv('GROseq/frag_gene_logASR_logit.txt')\n",
    "m <- m %>% mutate(sig = ifelse(logASR>0.5 & q<0.01, FALSE, TRUE) )\n",
    "m %>% ggplot(aes(x=logASR, y=-log10(P), color=sig)) + geom_point(size=1) +xlim(c(-10,10)) + theme_bw(12) + theme(panel.grid.minor = element_blank())\n",
    "#ggsave(\"GROseq/frag_gene_logASR_logit_volcano.pdf\", useDingbats=F, width=4, height=3)"
   ]
  },
  {
   "cell_type": "code",
   "execution_count": null,
   "metadata": {},
   "outputs": [],
   "source": [
    "%%R -i fit.s -o bed.c\n",
    "library(tidyverse)\n",
    "bed <- read_tsv('genome/Human.GRC38.96_antisense_frags.bed', col_names=F)\n",
    "colnames(bed) <- c(\"chr\", \"start\", \"end\", \"frag\", \"dummy\", \"strand\")\n",
    "bed.f <- bed %>% inner_join(fit.s, by='frag')\n",
    "bed.f <- bed.f %>% filter(logASR>0.5, q<0.01)\n",
    "bed.f <- bed.f %>% mutate(dummy=round(-log10(q)))\n",
    "write_tsv(bed.f %>% dplyr::select(chr, start,end,frag,dummy, strand), 'GROseq/Human.GRC38.96_antisense_frags.sig.bed', col_names=F)\n",
    "head(bed.f)\n",
    "#fit.s[startsWith(fit.s$frag, 'ENST00000320623'),]"
   ]
  },
  {
   "cell_type": "code",
   "execution_count": null,
   "metadata": {},
   "outputs": [],
   "source": [
    "%%R -i fit.s\n",
    "library(tidyverse)\n",
    "bed <- read_tsv('genome/Human.GRC38.96_antisense_frags.bed', col_names=F)\n",
    "colnames(bed) <- c(\"chr\", \"start\", \"end\", \"frag\", \"dummy\", \"strand\")\n",
    "bed.c <- bed %>% inner_join(fit.s, by='frag')\n",
    "bed.c <- bed.c %>% filter(logASR< 0, q>0.5)\n",
    "bed.c <- bed.c %>% mutate(dummy=round(-log10(q)))\n",
    "write_tsv(bed.c %>% dplyr::select(chr, start,end,frag,dummy, strand), 'GROseq/Human.GRC38.96_antisense_frags.neg.control.bed', col_names=F)\n",
    "head(bed.f)"
   ]
  },
  {
   "cell_type": "code",
   "execution_count": null,
   "metadata": {},
   "outputs": [],
   "source": [
    "%%bash\n",
    "#-d 300 allows meging of fragments that are close \n",
    "mergeBed -d 300 -c 4,6 -o collapse,distinct -i GROseq/Human.GRC38.96_antisense_frags.sig.bed | awk '{print $1 \"\\t\" $2 \"\\t\" $3 \"\\t\" $1\":\"$2\"-\"$3 \"\\t1\\t\" $5 \"\\t\" $4 }' > GROseq/Human.GRC38.96_antisense_frags.sig.merge.bed\n",
    "head GROseq/Human.GRC38.96_antisense_frags.sig.merge.bed"
   ]
  },
  {
   "cell_type": "code",
   "execution_count": null,
   "metadata": {},
   "outputs": [],
   "source": [
    "%%bash\n",
    "wc -l GROseq/Human.GRC38.96_antisense_frags.sig.merge.bed"
   ]
  },
  {
   "cell_type": "code",
   "execution_count": null,
   "metadata": {},
   "outputs": [],
   "source": [
    "%%bash\n",
    "#-d 300 allows meging of fragments that are close \n",
    "mergeBed -d 300 -c 4,6 -o collapse,distinct -i GROseq/Human.GRC38.96_antisense_frags.neg.control.bed | awk '{print $1 \"\\t\" $2 \"\\t\" $3 \"\\t\" $1\":\"$2\"-\"$3 \"\\t1\\t\" $5 \"\\t\" $4 }' > GROseq/Human.GRC38.96_antisense_frags.neg.control.merge.bed\n",
    "head GROseq/Human.GRC38.96_antisense_frags.neg.control.merge.bed"
   ]
  },
  {
   "cell_type": "code",
   "execution_count": null,
   "metadata": {},
   "outputs": [],
   "source": [
    "%%bash\n",
    "wc -l GROseq/Human.GRC38.96_antisense_frags.neg.control.merge.bed"
   ]
  },
  {
   "cell_type": "markdown",
   "metadata": {},
   "source": [
    "In this section, the goal is to refine the ends based on the antisense reads in each region:"
   ]
  },
  {
   "cell_type": "code",
   "execution_count": null,
   "metadata": {},
   "outputs": [],
   "source": [
    "%%bash\n",
    "cat GROseq/MDA_GROseq_r1.bed  GROseq/MDA_GROseq_r2.bed > tmp.bed"
   ]
  },
  {
   "cell_type": "code",
   "execution_count": null,
   "metadata": {},
   "outputs": [],
   "source": [
    "%%bash\n",
    "intersectBed -s -wo -a GROseq/Human.GRC38.96_antisense_frags.sig.merge.bed -b tmp.bed > GROseq/Human.GRC38.96_antisense_frags.sig.merge.reads.bed\n",
    "rm tmp.bed"
   ]
  },
  {
   "cell_type": "code",
   "execution_count": null,
   "metadata": {},
   "outputs": [],
   "source": [
    "%%R -o bed.bd\n",
    "library(tidyverse)\n",
    "bed <- read_tsv('GROseq/Human.GRC38.96_antisense_frags.sig.merge.reads.bed', col_names=F)\n",
    "bed.bd <- bed %>% group_by(X4) %>% summarize(chr=dplyr::first(X1), start=min(X9), end=max(X10), frags=dplyr::first(X7))"
   ]
  },
  {
   "cell_type": "code",
   "execution_count": null,
   "metadata": {},
   "outputs": [],
   "source": [
    "%%R -i bed.bd -o bed.final\n",
    "bed.final <- bed.bd %>% filter(end-start>100) %>% mutate(name=paste0(chr,\":\",start,\"-\", end), dummy=1, strand='-') %>% dplyr::select(chr, start,end,name,dummy,strand, frags)\n",
    "dim(bed.final)\n",
    "write_tsv(bed.final, 'GROseq/Human.GRC38.96_antisense.asRNA.sig.bed', col_names=F)"
   ]
  },
  {
   "cell_type": "code",
   "execution_count": null,
   "metadata": {},
   "outputs": [],
   "source": [
    "%%R -i bed.final\n",
    "bed.final <- bed.final %>% mutate(len = end-start)\n",
    "hist(bed.final$len, breaks=50)"
   ]
  },
  {
   "cell_type": "code",
   "execution_count": null,
   "metadata": {},
   "outputs": [],
   "source": [
    "%%bash\n",
    "wc -l GROseq/Human.GRC38.96_antisense.asRNA.sig.bed"
   ]
  },
  {
   "cell_type": "code",
   "execution_count": null,
   "metadata": {},
   "outputs": [],
   "source": [
    "%%bash\n",
    "## Redo the analysis to get enrichment score and p-value for each antisense region\n",
    "intersectBed -f 1 -S -wo -abam GROseq/MDA_GROseq_r1.bed -b GROseq/Human.GRC38.96_antisense.asRNA.sig.bed | cut -f10 | sort | uniq -c |  awk '{ print $2 \"\\t\" $1}' > GROseq/MDA_GROseq_r1.sense.asRNA.cnt\n",
    "intersectBed -f 1 -S -wo -abam GROseq/MDA_GROseq_r2.bed -b GROseq/Human.GRC38.96_antisense.asRNA.sig.bed | cut -f10 | sort | uniq -c |  awk '{ print $2 \"\\t\" $1}' > GROseq/MDA_GROseq_r2.sense.asRNA.cnt\n",
    "intersectBed -f 1 -s -wo -abam GROseq/MDA_GROseq_r1.bed -b GROseq/Human.GRC38.96_antisense.asRNA.sig.bed | cut -f10 | sort | uniq -c |  awk '{ print $2 \"\\t\" $1}' > GROseq/MDA_GROseq_r1.antisense.asRNA.cnt\n",
    "intersectBed -f 1 -s -wo -abam GROseq/MDA_GROseq_r2.bed -b GROseq/Human.GRC38.96_antisense.asRNA.sig.bed | cut -f10 | sort | uniq -c |  awk '{ print $2 \"\\t\" $1}' > GROseq/MDA_GROseq_r2.antisense.asRNA.cnt"
   ]
  },
  {
   "cell_type": "code",
   "execution_count": null,
   "metadata": {},
   "outputs": [],
   "source": [
    "%%R -o asRNA.df\n",
    "files <- list.files(\"./GROseq\", pattern=\".asRNA.cnt$\")\n",
    "files <- paste0(\"./GROseq/\", files)\n",
    "datalist <- lapply(files, function(x){read.table(file=x,header=FALSE,col.names=c(\"frag\", sub(\"./GROseq/(\\\\S+)\\\\.cnt\", \"\\\\1\", x)))})\n",
    "m <- Reduce(function(...) merge(..., by=1, all = TRUE), datalist)\n",
    "rownames(m) <- m[,1]\n",
    "m <- m[,-1]\n",
    "m[is.na(m)]<-0\n",
    "tmp <- m\n",
    "tmp[tmp>0] <- 1\n",
    "asRNA.df <- data.frame(m[rowSums(tmp)==4,])\n",
    "asRNA.df$frag <- rownames(asRNA.df)\n",
    "head(asRNA.df)"
   ]
  },
  {
   "cell_type": "code",
   "execution_count": null,
   "metadata": {},
   "outputs": [],
   "source": [
    "%%R -i asRNA.df,gene.df -o merged.df\n",
    "library(tidyverse)\n",
    "asRNA.df$gene <- gsub(\":\\\\d+-\\\\d+$\", \"\", asRNA.df$frag)\n",
    "\n",
    "merged.df <- asRNA.df %>% inner_join(gene.df, by=\"gene\")\n",
    "merged.df <- merged.df[,c(5,1,2,3,4,7,8,9,10)]\n",
    "merged.df[,6] <- merged.df[,6]-merged.df[,2]\n",
    "merged.df[,7] <- merged.df[,7]-merged.df[,3]\n",
    "merged.df[,8] <- merged.df[,8]-merged.df[,4]\n",
    "merged.df[,9] <- merged.df[,9]-merged.df[,5]\n",
    "head(merged.df)"
   ]
  },
  {
   "cell_type": "code",
   "execution_count": null,
   "metadata": {},
   "outputs": [],
   "source": [
    "%%R -i merged.df -o fit.s\n",
    "logit.all<-function(x, design, model, feature.list){\n",
    "  logit.all.gene<-function(m){\n",
    "    prep<-data.frame(design,m)\n",
    "    fit<-glm(model, data=prep, family=\"binomial\"(link=\"logit\"), weights = m)\n",
    "    sfit<<-summary(fit)\n",
    "    return(c(t(sfit$coefficients)))\n",
    "  }\n",
    "  logit.all.gene_try<-function(m){\n",
    "    out<-tryCatch(\n",
    "      {\n",
    "        result_logistic<-logit.all.gene(m)\n",
    "      },\n",
    "      error=function(cond){\n",
    "        return(rep(NA, times=8))\n",
    "      }\n",
    "    )\n",
    "    return(out)\n",
    "  }\n",
    "  logit.x<-t(apply(x, 1, logit.all.gene_try))\n",
    "  colnames(logit.x)<-apply(expand.grid(colnames(sfit$coefficients), rownames(sfit$coefficients)), 1, paste, collapse=\".\")\n",
    "  rownames(logit.x)<-feature.list\n",
    "  return(logit.x)\n",
    "}\n",
    "\n",
    "meta <- data.frame( do.call( rbind, strsplit( colnames(merged.df), '\\\\.' )[-1] ) )\n",
    "colnames(meta) <- c('sample', 'strand', 'feature.type')\n",
    "meta$feature.type <- factor(meta$feature.type)\n",
    "meta$feature.type <- relevel(meta$feature.type, ref='gene')\n",
    "meta$strand <- factor(meta$strand)\n",
    "meta$strand <- relevel(meta$strand, ref='sense')\n",
    "\n",
    "fit <- logit.all( merged.df[,-1], meta, feature.type~strand,  merged.df$frag)\n",
    "fit.s <- fit[,c(5,8)]\n",
    "colnames(fit.s) <- c(\"logASR\", \"P\")\n",
    "fit.s <- cbind(fit.s, p.adjust(fit.s[,'P'], method=\"fdr\"))\n",
    "colnames(fit.s) <- c(\"logASR\", \"P\", \"q\")\n",
    "write.table(fit.s, \"GROseq/asRNA_antisense_sense_logASR_logit.txt\", quote = F, sep=\"\\t\", row.names = T, col.names =NA)\n",
    "fit.s <- as.data.frame(fit.s)\n",
    "fit.s$frag <- rownames(fit.s)\n",
    "head(fit)"
   ]
  },
  {
   "cell_type": "code",
   "execution_count": null,
   "metadata": {},
   "outputs": [],
   "source": [
    "%%R -i fit.s\n",
    "fit.s %>% ggplot(aes(x=logASR, y=-log10(P))) + geom_point(size=1)"
   ]
  },
  {
   "cell_type": "code",
   "execution_count": 41,
   "metadata": {},
   "outputs": [
    {
     "data": {
      "image/png": "[encoded data removed]"
     },
     "metadata": {},
     "output_type": "display_data"
    }
   ],
   "source": [
    "%%R\n",
    "library(tidyverse)\n",
    "m <- read_tsv('GROseq/asRNA_antisense_sense_logASR_logit.txt')\n",
    "m <- m %>% mutate(sig = ifelse(logASR>0.5 & q<0.01, FALSE, TRUE) )\n",
    "m %>% ggplot(aes(x=logASR, y=-log10(P), color=sig)) + geom_point(size=1) +xlim(c(-10,10)) + theme_bw(12) + theme(panel.grid.minor = element_blank())\n",
    "#ggsave(\"GROseq/asRNA_antisense_sense_logASR_logit_volcano.pdf\", useDingbats=F, width=4, height=3)"
   ]
  },
  {
   "cell_type": "code",
   "execution_count": null,
   "metadata": {},
   "outputs": [],
   "source": [
    "%%bash\n",
    "wc -l GROseq/Human.GRC38.96_antisense.asRNA.sig.bed\n",
    "awk '{if ($2>1 && $4<0.01) print}' GROseq/asRNA_antisense_sense_logASR_logit.txt | cut -f1 | sed '1d' > GROseq/Human.GRC38.96_antisense.asRNA.sig.list\n",
    "grep -w --color=never -Ff GROseq/Human.GRC38.96_antisense.asRNA.sig.list GROseq/Human.GRC38.96_antisense.asRNA.sig.bed > GROseq/Human.GRC38.96_antisense.asRNA.sig.cor.bed\n",
    "wc -l GROseq/Human.GRC38.96_antisense.asRNA.sig.cor.bed"
   ]
  },
  {
   "cell_type": "code",
   "execution_count": null,
   "metadata": {},
   "outputs": [],
   "source": [
    "%%bash\n",
    "grep ENST00000320623 GROseq/asRNA_antisense_sense_logASR_logit.txt"
   ]
  },
  {
   "cell_type": "code",
   "execution_count": null,
   "metadata": {},
   "outputs": [],
   "source": [
    "%%bash\n",
    "wc -l genome/Human.GRCh38.96.chr.gtf\n",
    "cut -f1 GROseq/Human.GRC38.96_antisense.asRNA.sig.cor.bed > GROseq/Human.GRC38.96_antisense.asRNA.sig.list\n",
    "grep -w --color=never -Ff GROseq/Human.GRC38.96_antisense.asRNA.sig.list genome/Human.GRCh38.96.chr.gtf > genome/Human.GRCh38.96.chr.sig.gtf\n",
    "wc -l genome/Human.GRCh38.96.chr.sig.gtf"
   ]
  },
  {
   "cell_type": "code",
   "execution_count": null,
   "metadata": {},
   "outputs": [],
   "source": [
    "import pyranges as pr\n",
    "gr = pr.read_gtf(\"genome/Human.GRCh38.96.chr.sig.gtf\")\n",
    "gdf = gr.df\n",
    "gdf = gdf[['Chromosome', 'Feature', 'Start', 'End', 'Strand', 'transcript_id']]\n",
    "gdf['length'] = gdf['End']-gdf['Start']+1\n",
    "gdf.head()"
   ]
  },
  {
   "cell_type": "code",
   "execution_count": 713,
   "metadata": {},
   "outputs": [],
   "source": [
    "def get_genomic_pos (loc, starts, lens, strand):\n",
    "    total = sum(lens)\n",
    "    if (strand=='-'):\n",
    "        loc = total-loc\n",
    "    for i,l in enumerate(lens):\n",
    "        #print(i, starts[i], loc)\n",
    "        if loc<=l or i==len(lens)-1:\n",
    "            break\n",
    "        loc = loc-l\n",
    "    return starts[i]+loc,i"
   ]
  },
  {
   "cell_type": "code",
   "execution_count": 715,
   "metadata": {},
   "outputs": [
    {
     "name": "stdout",
     "output_type": "stream",
     "text": [
      "0\n",
      "100\n",
      "200\n",
      "300\n",
      "400\n",
      "500\n",
      "600\n",
      "700\n",
      "800\n",
      "900\n",
      "1000\n",
      "1100\n",
      "1200\n",
      "1300\n",
      "1400\n",
      "1500\n",
      "1600\n",
      "1700\n",
      "1800\n",
      "1900\n"
     ]
    }
   ],
   "source": [
    "## Covert to genomic coordiantes\n",
    "bed = pd.read_csv('GROseq/Human.GRC38.96_antisense.asRNA.sig.cor.bed', sep=\"\\t\", header=None)\n",
    "out = open('GROseq/Human.GRC38.96_antisense.asRNA.sig.cor.chr.bed', 'wt')\n",
    "for i in bed.index.tolist():\n",
    "    if i%100==0:\n",
    "        print(i)\n",
    "    tid, tb, te, tn, td, ts, dummy = bed.loc[i,].tolist()\n",
    "    tmp = gdf.query(\"Feature=='exon' and transcript_id=='{}'\".format(tid))\n",
    "    gchr = tmp['Chromosome'].tolist()[0]\n",
    "    gstrand = tmp['Strand'].tolist()[0]\n",
    "    starts = tmp['Start'].tolist()\n",
    "    ends = tmp['End'].tolist()\n",
    "    lens = tmp['length'].tolist()\n",
    "    if (gstrand=='-'):\n",
    "        starts.reverse()\n",
    "        lens.reverse()\n",
    "        (gb, exb) = get_genomic_pos(te+1, starts, lens, gstrand)\n",
    "        (ge, exe) = get_genomic_pos(tb+1, starts, lens, gstrand)\n",
    "        tstrand = '+'\n",
    "    else:\n",
    "        gb, exb = get_genomic_pos(tb+1, starts, lens, gstrand)\n",
    "        ge, exe = get_genomic_pos(te+1, starts, lens, gstrand)\n",
    "        gb = gb-2\n",
    "        gr = ge-2\n",
    "        tstrand = '-'\n",
    "    if (exe != exb):\n",
    "        continue\n",
    "    out.write(\"{}\\t{}\\t{}\\t{}\\t{}\\t{}\\n\".format(gchr, gb, ge, tn, td, tstrand, dummy))\n",
    "out.close()"
   ]
  },
  {
   "cell_type": "code",
   "execution_count": 716,
   "metadata": {},
   "outputs": [
    {
     "name": "stdout",
     "output_type": "stream",
     "text": [
      "ENST00000002125\t1586\t1929\tENST00000002125:1586-1929\t1\t-\tENST00000002125-7\n",
      "ENST00000003100\t2398\t3007\tENST00000003100:2398-3007\t1\t-\tENST00000003100-10,ENST00000003100-11\n",
      "ENST00000005340\t2148\t2305\tENST00000005340:2148-2305\t1\t-\tENST00000005340-9\n",
      "ENST00000012049\t1806\t2122\tENST00000012049:1806-2122\t1\t-\tENST00000012049-8\n",
      "ENST00000012134\t5535\t5942\tENST00000012134:5535-5942\t1\t-\tENST00000012134-23\n",
      "ENST00000014914\t4014\t4540\tENST00000014914:4014-4540\t1\t-\tENST00000014914-16,ENST00000014914-17\n",
      "ENST00000016171\t1805\t2342\tENST00000016171:1805-2342\t1\t-\tENST00000016171-8,ENST00000016171-9\n",
      "ENST00000040663\t1442\t2023\tENST00000040663:1442-2023\t1\t-\tENST00000040663-6,ENST00000040663-7\n",
      "ENST00000040738\t3257\t3424\tENST00000040738:3257-3424\t1\t-\tENST00000040738-13,ENST00000040738-14\n",
      "ENST00000053468\t1384\t1692\tENST00000053468:1384-1692\t1\t-\tENST00000053468-6\n"
     ]
    }
   ],
   "source": [
    "%%bash\n",
    "head GROseq/Human.GRC38.96_antisense.asRNA.sig.cor.bed"
   ]
  },
  {
   "cell_type": "code",
   "execution_count": null,
   "metadata": {},
   "outputs": [],
   "source": [
    "## Covert to genomic coordiantes for the negative control set\n",
    "bed = pd.read_csv('GROseq/Human.GRC38.96_antisense_frags.neg.control.merge.bed', sep=\"\\t\", header=None)\n",
    "out = open('GROseq/Human.GRC38.96_antisense_frags.neg.control.merge.chr.bed', 'wt')\n",
    "for i in bed.index.tolist():\n",
    "    if i%100==0:\n",
    "        print(i)\n",
    "    tid, tb, te, tn, td, ts, dummy = bed.loc[i,].tolist()\n",
    "    tmp = gdf.query(\"Feature=='exon' and transcript_id=='{}'\".format(tid))\n",
    "    if (tmp.empty):\n",
    "        continue\n",
    "    gchr = tmp['Chromosome'].tolist()[0]\n",
    "    gstrand = tmp['Strand'].tolist()[0]\n",
    "    starts = tmp['Start'].tolist()\n",
    "    ends = tmp['End'].tolist()\n",
    "    lens = tmp['length'].tolist()\n",
    "    if (gstrand=='-'):\n",
    "        starts.reverse()\n",
    "        lens.reverse()\n",
    "        (gb, exb) = get_genomic_pos(te+1, starts, lens, gstrand)\n",
    "        (ge, exe) = get_genomic_pos(tb+1, starts, lens, gstrand)\n",
    "        tstrand = '+'\n",
    "    else:\n",
    "        gb, exb = get_genomic_pos(tb+1, starts, lens, gstrand)\n",
    "        ge, exe = get_genomic_pos(te+1, starts, lens, gstrand)\n",
    "        gb = gb-2\n",
    "        gr = ge-2\n",
    "        tstrand = '-'\n",
    "    out.write(\"{}\\t{}\\t{}\\t{}\\t{}\\t{}\\n\".format(gchr, gb, ge, tn, td, tstrand, dummy))\n",
    "out.close()"
   ]
  },
  {
   "cell_type": "code",
   "execution_count": 717,
   "metadata": {},
   "outputs": [],
   "source": [
    "fasta = {}\n",
    "with open(\"genome/Human.GRC38.96_cDNA_longest_CDS.fa\", \"rt\") as handle:\n",
    "    for record in SeqIO.parse(handle, \"fasta\"):\n",
    "        fasta[record.id] = str(record.seq)   "
   ]
  },
  {
   "cell_type": "code",
   "execution_count": 718,
   "metadata": {},
   "outputs": [],
   "source": [
    "from Bio.Seq import Seq\n",
    "\n",
    "with open(\"GROseq/Human.GRC38.96_antisense.asRNA.sig.cor.bed\", \"rt\") as handle, open(\"GROseq/Human.GRC38.96_antisense.asRNA.sig.cor.fa\", \"wt\") as out:\n",
    "    for l in handle:\n",
    "        l = re.sub(\"\\s+$\", \"\", l)\n",
    "        a = l.split('\\t')\n",
    "        s = fasta[a[0]]\n",
    "        subs = s[int(a[1]):int(a[2])]\n",
    "        if a[5]=='-':\n",
    "            subs = Seq(subs).reverse_complement()\n",
    "        out.write(\">{}\\n{}\\n\".format(a[3], subs))"
   ]
  },
  {
   "cell_type": "code",
   "execution_count": 719,
   "metadata": {},
   "outputs": [
    {
     "name": "stdout",
     "output_type": "stream",
     "text": [
      "1787 GROseq/Human.GRC38.96_antisense.asRNA.sig.cor.chr.bed\n"
     ]
    }
   ],
   "source": [
    "%%bash\n",
    "wc -l GROseq/Human.GRC38.96_antisense.asRNA.sig.cor.chr.bed"
   ]
  },
  {
   "cell_type": "markdown",
   "metadata": {},
   "source": [
    "## POLR2A Analysis"
   ]
  },
  {
   "cell_type": "code",
   "execution_count": null,
   "metadata": {},
   "outputs": [],
   "source": [
    "%%bash\n",
    "mkdir POLR2A_ChIPseq"
   ]
  },
  {
   "cell_type": "code",
   "execution_count": null,
   "metadata": {},
   "outputs": [],
   "source": [
    "%%bash\n",
    "cd POLR2A_ChIPseq/\n",
    "#files.txt from ENCODE cart (bed narrowPeak, GRCh38, peaks pre-IDR)\n",
    "xargs -L 1 curl -O -L < files.txt"
   ]
  },
  {
   "cell_type": "code",
   "execution_count": null,
   "metadata": {},
   "outputs": [],
   "source": [
    "%%bash\n",
    "gunzip POLR2A_ChIPseq/*.gz"
   ]
  },
  {
   "cell_type": "code",
   "execution_count": null,
   "metadata": {},
   "outputs": [],
   "source": [
    "%%bash\n",
    "mkdir POLR2A_ChIPseq/combined"
   ]
  },
  {
   "cell_type": "code",
   "execution_count": null,
   "metadata": {},
   "outputs": [],
   "source": [
    "%%bash\n",
    "cat POLR2A_ChIPseq/*.bed | awk 'OFS=\"\\t\" {print $1,$2,$3,\"POLR2A_ChIP_peak_\" NR,\"1\\t.\"}' > POLR2A_ChIPseq/combined/POL2RA_combined.bed"
   ]
  },
  {
   "cell_type": "code",
   "execution_count": 720,
   "metadata": {},
   "outputs": [],
   "source": [
    "%%bash\n",
    "awk 'OFS=\"\\t\" {if ($6==\"+\"){print($1, $2-1000, $3, $4, $5, $6)}else{print($1, $2, $3+1000, $4, $5, $6)}}' GROseq/Human.GRC38.96_antisense.asRNA.sig.cor.chr.bed > GROseq/Human.GRC38.96_antisense.asRNA.sig.cor.chr.ext.bed"
   ]
  },
  {
   "cell_type": "code",
   "execution_count": 721,
   "metadata": {},
   "outputs": [],
   "source": [
    "%%bash\n",
    "#The negatives are ~400bp longer, so the estimates here are actually more conservative\n",
    "awk 'OFS=\"\\t\" {if ($6==\"+\"){print($1, $2, $3, $4, $5, $6)}else{print($1, $2, $3, $4, $5, $6)}}' GROseq/Human.GRC38.96_antisense_frags.neg.control.merge.chr.bed > GROseq/Human.GRC38.96_antisense_frags.neg.control.merge.chr.ext.bed"
   ]
  },
  {
   "cell_type": "code",
   "execution_count": 722,
   "metadata": {},
   "outputs": [],
   "source": [
    "%%bash\n",
    "intersectBed -wo -a GROseq/Human.GRC38.96_antisense.asRNA.sig.cor.chr.ext.bed -b POLR2A_ChIPseq/combined/POL2RA_combined.bed > POLR2A_ChIPseq/combined/Human.GRC38.96_antisense.asRNA.sig.cor.chr.POL2RA_combined.bed"
   ]
  },
  {
   "cell_type": "code",
   "execution_count": 723,
   "metadata": {},
   "outputs": [],
   "source": [
    "%%bash\n",
    "cut -f4 POLR2A_ChIPseq/combined/Human.GRC38.96_antisense.asRNA.sig.cor.chr.POL2RA_combined.bed | sort | uniq -c | awk '{ print $2 \"\\t\" $1}' > POLR2A_ChIPseq/combined/Human.GRC38.96_antisense.asRNA.sig.cor.chr.POL2RA_combined.cnt"
   ]
  },
  {
   "cell_type": "code",
   "execution_count": 724,
   "metadata": {},
   "outputs": [],
   "source": [
    "%%bash\n",
    "#neg control\n",
    "intersectBed -wo -a GROseq/Human.GRC38.96_antisense_frags.neg.control.merge.chr.ext.bed -b POLR2A_ChIPseq/combined/POL2RA_combined.bed > POLR2A_ChIPseq/combined/Human.GRC38.96_antisense_frags.neg.control.merge.chr.ext.POL2RA_combined.bed"
   ]
  },
  {
   "cell_type": "code",
   "execution_count": 725,
   "metadata": {},
   "outputs": [],
   "source": [
    "%%bash\n",
    "cut -f4 POLR2A_ChIPseq/combined/Human.GRC38.96_antisense_frags.neg.control.merge.chr.ext.POL2RA_combined.bed | sort | uniq -c | awk '{ print $2 \"\\t\" $1}' > POLR2A_ChIPseq/combined/Human.GRC38.96_antisense_frags.neg.control.merge.chr.ext.POL2RA_combined.cnt"
   ]
  },
  {
   "cell_type": "code",
   "execution_count": 24,
   "metadata": {},
   "outputs": [],
   "source": [
    "%%R\n",
    "library(tidyverse)\n",
    "pol2ra.pos.cnt <- read_tsv('POLR2A_ChIPseq/combined/Human.GRC38.96_antisense.asRNA.sig.cor.chr.POL2RA_combined.cnt', col_names=F)\n",
    "pol2ra.pos.cnt$X2 <- log2(pol2ra.pos.cnt$X2)\n",
    "pol2ra.pos.cnt$type <- 'set'\n",
    "\n",
    "pol2ra.neg.cnt <- read_tsv('POLR2A_ChIPseq/combined/Human.GRC38.96_antisense_frags.neg.control.merge.chr.ext.POL2RA_combined.cnt', col_names=F)\n",
    "pol2ra.neg.cnt$X2 <- log2(pol2ra.neg.cnt$X2)\n",
    "pol2ra.neg.cnt$type <- 'control'\n",
    "\n",
    "th <- median(pol2ra.neg.cnt$X2)+IQR(pol2ra.neg.cnt$X2)\n",
    "passed <- pol2ra.pos.cnt %>% dplyr::filter(X2>th) %>% dplyr::select(X1) %>% pull()\n",
    "\n",
    "bed <- read_tsv('GROseq/Human.GRC38.96_antisense.asRNA.sig.cor.chr.bed', col_names=F)\n",
    "colnames(bed) <- c(\"chr\", \"start\", \"end\", \"frag\", \"dummy\", \"strand\")\n",
    "write_tsv(bed %>% dplyr::filter(frag %in% passed), 'POLR2A_ChIPseq/combined/Human.GRC38.96_antisense.asRNA.sig.cor.chr.polr2a.bed', col_names=F)\n",
    "\n",
    "bed <- read_tsv('GROseq/Human.GRC38.96_antisense.asRNA.sig.cor.bed', col_names=F)\n",
    "colnames(bed) <- c(\"chr\", \"start\", \"end\", \"frag\", \"dummy\", \"strand\", \"transcripts\")\n",
    "write_tsv(bed %>% dplyr::filter(frag %in% passed), 'POLR2A_ChIPseq/combined/Human.GRC38.96_antisense.asRNA.sig.cor.polr2a.bed', col_names=F)\n",
    "\n",
    "merge <- pol2ra.pos.cnt %>% bind_rows(pol2ra.neg.cnt)\n",
    "merge %>% ggplot(aes(x=X2, color=type, fill=type)) + geom_density(alpha=0.2) + xlab('log-count POL2RA datasets that match') + xlim(c(0,7)) +\n",
    "    geom_vline(xintercept=median(pol2ra.neg.cnt$X2), linetype=\"dashed\", color = \"black\") +\n",
    "    geom_vline(xintercept=th, linetype=\"dashed\", color = \"red\") + theme_bw(12) + theme(panel.grid.minor = element_blank(), panel.grid.major = element_blank())\n",
    "ggsave(\"POLR2A_ChIPseq/antisense_vs_control_density.pdf\", width=4, height=2.5)\n",
    "#merge %>% ggplot(aes(x=X2, color=type, fill=type)) + stat_ecdf() + xlab('log-count POL2RA datasets that match') + theme_bw()"
   ]
  },
  {
   "cell_type": "code",
   "execution_count": 728,
   "metadata": {},
   "outputs": [
    {
     "name": "stdout",
     "output_type": "stream",
     "text": [
      "ENST00000003100\t2398\t3007\tENST00000003100:2398-3007\t1\t-\tENST00000003100-10,ENST00000003100-11\n",
      "ENST00000005340\t2148\t2305\tENST00000005340:2148-2305\t1\t-\tENST00000005340-9\n",
      "ENST00000056233\t1227\t2019\tENST00000056233:1227-2019\t1\t-\tENST00000056233-6,ENST00000056233-7\n",
      "ENST00000056233\t2973\t3528\tENST00000056233:2973-3528\t1\t-\tENST00000056233-13\n",
      "ENST00000170447\t2561\t2752\tENST00000170447:2561-2752\t1\t-\tENST00000170447-11\n",
      "ENST00000181839\t77\t329\tENST00000181839:77-329\t1\t-\tENST00000181839-1,ENST00000181839-2\n",
      "ENST00000192788\t6056\t6622\tENST00000192788:6056-6622\t1\t-\tENST00000192788-25,ENST00000192788-26,ENST00000192788-27\n",
      "ENST00000204726\t7425\t8328\tENST00000204726:7425-8328\t1\t-\tENST00000204726-29,ENST00000204726-30,ENST00000204726-33\n",
      "ENST00000209728\t2309\t2559\tENST00000209728:2309-2559\t1\t-\tENST00000209728-9,ENST00000209728-10\n",
      "ENST00000216034\t1327\t1712\tENST00000216034:1327-1712\t1\t-\tENST00000216034-6\n",
      "308 POLR2A_ChIPseq/combined/Human.GRC38.96_antisense.asRNA.sig.cor.polr2a.bed\n"
     ]
    }
   ],
   "source": [
    "%%bash\n",
    "head POLR2A_ChIPseq/combined/Human.GRC38.96_antisense.asRNA.sig.cor.polr2a.bed\n",
    "wc -l POLR2A_ChIPseq/combined/Human.GRC38.96_antisense.asRNA.sig.cor.polr2a.bed"
   ]
  },
  {
   "cell_type": "markdown",
   "metadata": {},
   "source": [
    "## Stranded RNA-seq"
   ]
  },
  {
   "cell_type": "code",
   "execution_count": null,
   "metadata": {},
   "outputs": [],
   "source": [
    "%%bash\n",
    "for f in 09152015_MDA-LM2_RNA-seq/*.trim.fastq.gz; do\n",
    "out=${f/.trim.fastq.gz/.cDNA.bam}\n",
    "echo $f\n",
    "echo \"bowtie2 --sensitive --end-to-end -N 1 -p 4 -x genome/Human.GRC38.96_cDNA_longest_CDS -U $f | samtools view - -F4 -Sb  -h -t  genome/Human.GRC38.96_cDNA_longest_CDS.fa.fai -o $out\"\n",
    "bowtie2 --sensitive --end-to-end -N 1 -p 4 -x genome/Human.GRC38.96_cDNA_longest_CDS -U $f | samtools view - -F4 -Sb  -h -t  genome/Human.GRC38.96_cDNA_longest_CDS.fa.fai -o $out\n",
    "done\n"
   ]
  },
  {
   "cell_type": "code",
   "execution_count": null,
   "metadata": {},
   "outputs": [],
   "source": [
    "%%bash\n",
    "for f in 09152015_MDA-LM2_RNA-seq/*.cDNA.bam; do\n",
    "samtools flagstat $f | head -n1\n",
    "done"
   ]
  },
  {
   "cell_type": "code",
   "execution_count": null,
   "metadata": {},
   "outputs": [],
   "source": [
    "%%bash\n",
    "for f in 09152015_MDA-LM2_RNA-seq/*.cDNA.bam; do\n",
    "echo $f\n",
    "samtools view $f | cut -f2 | sort | uniq -c\n",
    "done"
   ]
  },
  {
   "cell_type": "code",
   "execution_count": null,
   "metadata": {},
   "outputs": [],
   "source": [
    "%%bash\n",
    "for f in 09152015_MDA-LM2_RNA-seq/*.cDNA.bam; do\n",
    "out=${f/.cDNA.bam/.sense.gene.cnt}\n",
    "echo \"samtools view $f | awk '{if($2==0) print}' | cut -f3 | sort | uniq -c |  awk '{ print $2 \"\\t\" $1}' > $out\"\n",
    "samtools view $f | awk '{if($2==0) print}' | cut -f3 | sort | uniq -c |  awk '{ print $2 \"\\t\" $1}' > $out\n",
    "out=${f/.cDNA.bam/.antisense.gene.cnt}\n",
    "echo \"samtools view $f | awk '{if($2==16) print}' | cut -f3 | sort | uniq -c |  awk '{ print $2 \"\\t\" $1}' > $out\"\n",
    "samtools view $f | awk '{if($2==16) print}' | cut -f3 | sort | uniq -c |  awk '{ print $2 \"\\t\" $1}' > $out\n",
    "done"
   ]
  },
  {
   "cell_type": "code",
   "execution_count": null,
   "metadata": {},
   "outputs": [],
   "source": [
    "%%bash\n",
    "for f in 09152015_MDA-LM2_RNA-seq/*.cDNA.bam; do\n",
    "out=${f/.bam/.bed}\n",
    "echo \"bamToBed -i $f > $out\"\n",
    "bamToBed -i $f > $out\n",
    "done"
   ]
  },
  {
   "cell_type": "code",
   "execution_count": 729,
   "metadata": {},
   "outputs": [
    {
     "name": "stdout",
     "output_type": "stream",
     "text": [
      "intersectBed -f 1 -S -wo -a 09152015_MDA-LM2_RNA-seq/MDA-LM2_r1.cDNA.bed -b POLR2A_ChIPseq/combined/Human.GRC38.96_antisense.asRNA.sig.cor.polr2a.bed | cut -f10 | sort | uniq -c |  awk '{ print  t }' > 09152015_MDA-LM2_RNA-seq/MDA-LM2_r1.sense.frag.cnt\n",
      "intersectBed -f 1 -s -wo -a 09152015_MDA-LM2_RNA-seq/MDA-LM2_r1.cDNA.bed -b POLR2A_ChIPseq/combined/Human.GRC38.96_antisense.asRNA.sig.cor.polr2a.bed | cut -f10 | sort | uniq -c |  awk '{ print  t }' > 09152015_MDA-LM2_RNA-seq/MDA-LM2_r1.antisense.frag.cnt\n",
      "intersectBed -f 1 -S -wo -a 09152015_MDA-LM2_RNA-seq/MDA-LM2_r2.cDNA.bed -b POLR2A_ChIPseq/combined/Human.GRC38.96_antisense.asRNA.sig.cor.polr2a.bed | cut -f10 | sort | uniq -c |  awk '{ print  t }' > 09152015_MDA-LM2_RNA-seq/MDA-LM2_r2.sense.frag.cnt\n",
      "intersectBed -f 1 -s -wo -a 09152015_MDA-LM2_RNA-seq/MDA-LM2_r2.cDNA.bed -b POLR2A_ChIPseq/combined/Human.GRC38.96_antisense.asRNA.sig.cor.polr2a.bed | cut -f10 | sort | uniq -c |  awk '{ print  t }' > 09152015_MDA-LM2_RNA-seq/MDA-LM2_r2.antisense.frag.cnt\n",
      "intersectBed -f 1 -S -wo -a 09152015_MDA-LM2_RNA-seq/MDA-Par_r1.cDNA.bed -b POLR2A_ChIPseq/combined/Human.GRC38.96_antisense.asRNA.sig.cor.polr2a.bed | cut -f10 | sort | uniq -c |  awk '{ print  t }' > 09152015_MDA-LM2_RNA-seq/MDA-Par_r1.sense.frag.cnt\n",
      "intersectBed -f 1 -s -wo -a 09152015_MDA-LM2_RNA-seq/MDA-Par_r1.cDNA.bed -b POLR2A_ChIPseq/combined/Human.GRC38.96_antisense.asRNA.sig.cor.polr2a.bed | cut -f10 | sort | uniq -c |  awk '{ print  t }' > 09152015_MDA-LM2_RNA-seq/MDA-Par_r1.antisense.frag.cnt\n",
      "intersectBed -f 1 -S -wo -a 09152015_MDA-LM2_RNA-seq/MDA-Par_r2.cDNA.bed -b POLR2A_ChIPseq/combined/Human.GRC38.96_antisense.asRNA.sig.cor.polr2a.bed | cut -f10 | sort | uniq -c |  awk '{ print  t }' > 09152015_MDA-LM2_RNA-seq/MDA-Par_r2.sense.frag.cnt\n",
      "intersectBed -f 1 -s -wo -a 09152015_MDA-LM2_RNA-seq/MDA-Par_r2.cDNA.bed -b POLR2A_ChIPseq/combined/Human.GRC38.96_antisense.asRNA.sig.cor.polr2a.bed | cut -f10 | sort | uniq -c |  awk '{ print  t }' > 09152015_MDA-LM2_RNA-seq/MDA-Par_r2.antisense.frag.cnt\n"
     ]
    }
   ],
   "source": [
    "%%bash\n",
    "for f in 09152015_MDA-LM2_RNA-seq/*.cDNA.bed; do\n",
    "out=${f/.cDNA.bed/.sense.frag.cnt}\n",
    "echo \"intersectBed -f 1 -S -wo -a $f -b POLR2A_ChIPseq/combined/Human.GRC38.96_antisense.asRNA.sig.cor.polr2a.bed | cut -f10 | sort | uniq -c |  awk '{ print $2 \"\\t\" $1}' > $out\"\n",
    "intersectBed -f 1 -S -wo -a $f -b POLR2A_ChIPseq/combined/Human.GRC38.96_antisense.asRNA.sig.cor.polr2a.bed | cut -f10 | sort | uniq -c |  awk '{ print $2 \"\\t\" $1}' > $out\n",
    "out=${f/.cDNA.bed/.antisense.frag.cnt}\n",
    "echo \"intersectBed -f 1 -s -wo -a $f -b POLR2A_ChIPseq/combined/Human.GRC38.96_antisense.asRNA.sig.cor.polr2a.bed | cut -f10 | sort | uniq -c |  awk '{ print $2 \"\\t\" $1}' > $out\"\n",
    "intersectBed -f 1 -s -wo -a $f -b POLR2A_ChIPseq/combined/Human.GRC38.96_antisense.asRNA.sig.cor.polr2a.bed | cut -f10 | sort | uniq -c |  awk '{ print $2 \"\\t\" $1}' > $out\n",
    "done"
   ]
  },
  {
   "cell_type": "code",
   "execution_count": 730,
   "metadata": {},
   "outputs": [
    {
     "data": {
      "text/plain": [
       "                          MDA.LM2_r1.antisense.frag MDA.LM2_r1.sense.frag\n",
       "ENST00000003100:2398-3007                       197                   412\n",
       "ENST00000056233:1227-2019                       138                  2167\n",
       "ENST00000056233:2973-3528                       100                   139\n",
       "ENST00000170447:2561-2752                         3                    37\n",
       "ENST00000192788:6056-6622                        42                   153\n",
       "ENST00000204726:7425-8328                        69                   226\n",
       "                          MDA.LM2_r2.antisense.frag MDA.LM2_r2.sense.frag\n",
       "ENST00000003100:2398-3007                       257                   498\n",
       "ENST00000056233:1227-2019                       157                  2463\n",
       "ENST00000056233:2973-3528                       102                   144\n",
       "ENST00000170447:2561-2752                         2                    60\n",
       "ENST00000192788:6056-6622                        36                   131\n",
       "ENST00000204726:7425-8328                        79                   265\n",
       "                          MDA.Par_r1.antisense.frag MDA.Par_r1.sense.frag\n",
       "ENST00000003100:2398-3007                       317                   698\n",
       "ENST00000056233:1227-2019                       128                  2343\n",
       "ENST00000056233:2973-3528                        57                   197\n",
       "ENST00000170447:2561-2752                         3                    84\n",
       "ENST00000192788:6056-6622                        70                   249\n",
       "ENST00000204726:7425-8328                       100                   388\n",
       "                          MDA.Par_r2.antisense.frag MDA.Par_r2.sense.frag\n",
       "ENST00000003100:2398-3007                       310                   509\n",
       "ENST00000056233:1227-2019                        93                  1161\n",
       "ENST00000056233:2973-3528                        36                   112\n",
       "ENST00000170447:2561-2752                         3                    37\n",
       "ENST00000192788:6056-6622                        60                   190\n",
       "ENST00000204726:7425-8328                       100                   319\n",
       "                                               frag\n",
       "ENST00000003100:2398-3007 ENST00000003100:2398-3007\n",
       "ENST00000056233:1227-2019 ENST00000056233:1227-2019\n",
       "ENST00000056233:2973-3528 ENST00000056233:2973-3528\n",
       "ENST00000170447:2561-2752 ENST00000170447:2561-2752\n",
       "ENST00000192788:6056-6622 ENST00000192788:6056-6622\n",
       "ENST00000204726:7425-8328 ENST00000204726:7425-8328\n"
      ]
     },
     "metadata": {},
     "output_type": "display_data"
    }
   ],
   "source": [
    "%%R -o frag.df\n",
    "files <- list.files(\"./09152015_MDA-LM2_RNA-seq\", pattern=\".frag.cnt$\")\n",
    "files <- paste0(\"./09152015_MDA-LM2_RNA-seq/\", files)\n",
    "datalist <- lapply(files, function(x){read.table(file=x,header=FALSE,col.names=c(\"frag\", sub(\"./09152015_MDA-LM2_RNA-seq/(\\\\S+)\\\\.cnt\", \"\\\\1\", x)))})\n",
    "m <- Reduce(function(...) merge(..., by=1, all = TRUE), datalist)\n",
    "rownames(m) <- m[,1]\n",
    "m <- m[,-1]\n",
    "m[is.na(m)]<-0\n",
    "tmp <- m\n",
    "tmp[tmp>0] <- 1\n",
    "frag.df <- data.frame(m[rowSums(tmp)==8,])\n",
    "frag.df$frag <- rownames(frag.df)\n",
    "head(frag.df)"
   ]
  },
  {
   "cell_type": "code",
   "execution_count": 731,
   "metadata": {},
   "outputs": [
    {
     "data": {
      "text/plain": [
       "                MDA.LM2_r1.antisense.gene MDA.LM2_r1.sense.gene\n",
       "ENST00000000233                         2                   176\n",
       "ENST00000000412                       112                  2294\n",
       "ENST00000000442                        29                   598\n",
       "ENST00000001008                       176                  3139\n",
       "ENST00000001146                         5                   126\n",
       "ENST00000002125                        87                   556\n",
       "                MDA.LM2_r2.antisense.gene MDA.LM2_r2.sense.gene\n",
       "ENST00000000233                         5                   235\n",
       "ENST00000000412                       116                  2868\n",
       "ENST00000000442                        41                   740\n",
       "ENST00000001008                       192                  3496\n",
       "ENST00000001146                        12                   178\n",
       "ENST00000002125                       103                   649\n",
       "                MDA.Par_r1.antisense.gene MDA.Par_r1.sense.gene\n",
       "ENST00000000233                        14                   473\n",
       "ENST00000000412                       209                  4308\n",
       "ENST00000000442                        31                   588\n",
       "ENST00000001008                       246                  4465\n",
       "ENST00000001146                        16                   308\n",
       "ENST00000002125                       129                   875\n",
       "                MDA.Par_r2.antisense.gene MDA.Par_r2.sense.gene            gene\n",
       "ENST00000000233                         8                   264 ENST00000000233\n",
       "ENST00000000412                        85                  2597 ENST00000000412\n",
       "ENST00000000442                        15                   395 ENST00000000442\n",
       "ENST00000001008                        90                  2681 ENST00000001008\n",
       "ENST00000001146                         8                   188 ENST00000001146\n",
       "ENST00000002125                       124                   607 ENST00000002125\n"
      ]
     },
     "metadata": {},
     "output_type": "display_data"
    }
   ],
   "source": [
    "%%R -o gene.df\n",
    "files <- list.files(\"./09152015_MDA-LM2_RNA-seq\", pattern=\"gene.cnt$\")\n",
    "files <- paste0(\"./09152015_MDA-LM2_RNA-seq/\", files)\n",
    "datalist <- lapply(files, function(x){read.table(file=x,header=FALSE,col.names=c(\"frag\", sub(\"./09152015_MDA-LM2_RNA-seq/(\\\\S+)\\\\.cnt\", \"\\\\1\", x)))})\n",
    "m <- Reduce(function(...) merge(..., by=1, all = TRUE), datalist)\n",
    "rownames(m) <- m[,1]\n",
    "m <- m[,-1]\n",
    "m[is.na(m)]<-0\n",
    "tmp <- m\n",
    "tmp[tmp>0] <- 1\n",
    "gene.df <- data.frame(m[rowSums(tmp)==8,])\n",
    "gene.df$gene <- rownames(gene.df)\n",
    "head(gene.df)"
   ]
  },
  {
   "cell_type": "code",
   "execution_count": 732,
   "metadata": {},
   "outputs": [
    {
     "data": {
      "text/plain": [
       "                       frag MDA.LM2_r1.antisense.frag MDA.LM2_r1.sense.frag\n",
       "1 ENST00000003100:2398-3007                       197                   412\n",
       "2 ENST00000056233:1227-2019                       138                  2167\n",
       "3 ENST00000056233:2973-3528                       100                   139\n",
       "4 ENST00000170447:2561-2752                         3                    37\n",
       "5 ENST00000192788:6056-6622                        42                   153\n",
       "6 ENST00000204726:7425-8328                        69                   226\n",
       "  MDA.LM2_r2.antisense.frag MDA.LM2_r2.sense.frag MDA.Par_r1.antisense.frag\n",
       "1                       257                   498                       317\n",
       "2                       157                  2463                       128\n",
       "3                       102                   144                        57\n",
       "4                         2                    60                         3\n",
       "5                        36                   131                        70\n",
       "6                        79                   265                       100\n",
       "  MDA.Par_r1.sense.frag MDA.Par_r2.antisense.frag MDA.Par_r2.sense.frag\n",
       "1                   698                       310                   509\n",
       "2                  2343                        93                  1161\n",
       "3                   197                        36                   112\n",
       "4                    84                         3                    37\n",
       "5                   249                        60                   190\n",
       "6                   388                       100                   319\n",
       "  MDA.LM2_r1.antisense.gene MDA.LM2_r1.sense.gene MDA.LM2_r2.antisense.gene\n",
       "1                        77                  2075                       131\n",
       "2                       535                  5118                       690\n",
       "3                       573                  7146                       745\n",
       "4                        37                  1059                        48\n",
       "5                       150                  1423                       157\n",
       "6                       217                  4168                       228\n",
       "  MDA.LM2_r2.sense.gene MDA.Par_r1.antisense.gene MDA.Par_r1.sense.gene\n",
       "1                  2390                       194                  3475\n",
       "2                  5805                       485                  6092\n",
       "3                  8124                       556                  8238\n",
       "4                  1358                       108                  2223\n",
       "5                  1517                       303                  3462\n",
       "6                  4502                       312                  6660\n",
       "  MDA.Par_r2.antisense.gene MDA.Par_r2.sense.gene\n",
       "1                        91                  1913\n",
       "2                       343                  3231\n",
       "3                       400                  4280\n",
       "4                        48                  1339\n",
       "5                       195                  2140\n",
       "6                       226                  4222\n"
      ]
     },
     "metadata": {},
     "output_type": "display_data"
    }
   ],
   "source": [
    "%%R -i frag.df,gene.df -o merged.df\n",
    "library(tidyverse)\n",
    "frag.df$gene <- gsub(\":\\\\d+-\\\\d+$\", \"\", frag.df$frag)\n",
    "\n",
    "merged.df <- frag.df %>% inner_join(gene.df, by=\"gene\")\n",
    "merged.df <- merged.df[,c(9,seq(1,8), seq(11,18))]\n",
    "merged.df[,10] <- merged.df[,10]-merged.df[,2]\n",
    "merged.df[,11] <- merged.df[,11]-merged.df[,3]\n",
    "merged.df[,12] <- merged.df[,12]-merged.df[,4]\n",
    "merged.df[,13] <- merged.df[,13]-merged.df[,5]\n",
    "merged.df[,14] <- merged.df[,14]-merged.df[,6]\n",
    "merged.df[,15] <- merged.df[,15]-merged.df[,7]\n",
    "merged.df[,16] <- merged.df[,16]-merged.df[,8]\n",
    "merged.df[,17] <- merged.df[,17]-merged.df[,9]\n",
    "head(merged.df)"
   ]
  },
  {
   "cell_type": "code",
   "execution_count": 733,
   "metadata": {},
   "outputs": [
    {
     "data": {
      "text/plain": [
       "                          Estimate.(Intercept) Std. Error.(Intercept)\n",
       "ENST00000003100:2398-3007           -1.5377760             0.02395529\n",
       "ENST00000056233:1227-2019           -0.9119044             0.01312757\n",
       "ENST00000056233:2973-3528           -3.8488529             0.04153523\n",
       "ENST00000170447:2561-2752           -3.3115135             0.06895033\n",
       "ENST00000192788:6056-6622           -2.4693412             0.03873233\n",
       "ENST00000204726:7425-8328           -2.7924241             0.02976350\n",
       "                          z value.(Intercept) Pr(>|z|).(Intercept)\n",
       "ENST00000003100:2398-3007           -64.19358                    0\n",
       "ENST00000056233:1227-2019           -69.46481                    0\n",
       "ENST00000056233:2973-3528           -92.66478                    0\n",
       "ENST00000170447:2561-2752           -48.02752                    0\n",
       "ENST00000192788:6056-6622           -63.75400                    0\n",
       "ENST00000204726:7425-8328           -93.82044                    0\n",
       "                          Estimate.strandantisense Std. Error.strandantisense\n",
       "ENST00000003100:2398-3007                2.3229086                 0.05939127\n",
       "ENST00000056233:1227-2019               -0.4690462                 0.05096477\n",
       "ENST00000056233:2973-3528                1.8065326                 0.07453026\n",
       "ENST00000170447:2561-2752                0.2246119                 0.31593135\n",
       "ENST00000192788:6056-6622                1.1160370                 0.08689144\n",
       "ENST00000204726:7425-8328                1.7540174                 0.06911384\n",
       "                          z value.strandantisense Pr(>|z|).strandantisense\n",
       "ENST00000003100:2398-3007              39.1119537             0.000000e+00\n",
       "ENST00000056233:1227-2019              -9.2033423             3.469854e-20\n",
       "ENST00000056233:2973-3528              24.2389145            8.654925e-130\n",
       "ENST00000170447:2561-2752               0.7109516             4.771143e-01\n",
       "ENST00000192788:6056-6622              12.8440391             9.289822e-38\n",
       "ENST00000204726:7425-8328              25.3786715            4.337732e-142\n"
      ]
     },
     "metadata": {},
     "output_type": "display_data"
    }
   ],
   "source": [
    "%%R -i merged.df -o fit.s\n",
    "logit.all<-function(x, design, model, feature.list){\n",
    "  logit.all.gene<-function(m){\n",
    "    prep<-data.frame(design,m)\n",
    "    fit<-glm(model, data=prep, family=\"binomial\"(link=\"logit\"), weights = m)\n",
    "    sfit<<-summary(fit)\n",
    "    return(c(t(sfit$coefficients)))\n",
    "  }\n",
    "  logit.all.gene_try<-function(m){\n",
    "    out<-tryCatch(\n",
    "      {\n",
    "        result_logistic<-logit.all.gene(m)\n",
    "      },\n",
    "      error=function(cond){\n",
    "        return(rep(NA, times=8))\n",
    "      }\n",
    "    )\n",
    "    return(out)\n",
    "  }\n",
    "  logit.x<-t(apply(x, 1, logit.all.gene_try))\n",
    "  colnames(logit.x)<-apply(expand.grid(colnames(sfit$coefficients), rownames(sfit$coefficients)), 1, paste, collapse=\".\")\n",
    "  rownames(logit.x)<-feature.list\n",
    "  return(logit.x)\n",
    "}\n",
    "\n",
    "meta <- data.frame( do.call( rbind, strsplit( colnames(merged.df), '\\\\.' )[-1] ) )\n",
    "meta$X1 <- c(rep(\"LM2\",4),rep(\"MDA\",4),rep(\"LM2\",4),rep(\"MDA\",4))\n",
    "meta$X2 <- c(rep(c(\"r1\", \"r1\", \"r2\", \"r2\"),4))\n",
    "colnames(meta) <- c('cell.line', 'rep', 'strand', 'feature.type')\n",
    "meta$feature.type <- factor(meta$feature.type)\n",
    "meta$feature.type <- relevel(meta$feature.type, ref='gene')\n",
    "meta$strand <- factor(meta$strand)\n",
    "meta$strand <- relevel(meta$strand, ref='sense')\n",
    "\n",
    "fit <- logit.all( merged.df[,-1], meta, feature.type~strand,  merged.df$frag)\n",
    "fit.s <- fit[,c(5,8)]\n",
    "colnames(fit.s) <- c(\"logASR\", \"P\")\n",
    "fit.s <- cbind(fit.s, p.adjust(fit.s[,'P'], method=\"fdr\"))\n",
    "colnames(fit.s) <- c(\"logASR\", \"P\", \"q\")\n",
    "write.table(fit.s, \"09152015_MDA-LM2_RNA-seq/asRNA_gene_logASR_logit.txt\", quote = F, sep=\"\\t\", row.names = T, col.names =NA) #ASR=antisense-sense ratio aka enrichment score\n",
    "fit.s <- as.data.frame(fit.s)\n",
    "fit.s$frag <- rownames(fit.s)\n",
    "head(fit)"
   ]
  },
  {
   "cell_type": "code",
   "execution_count": 734,
   "metadata": {},
   "outputs": [
    {
     "data": {
      "image/png": "[encoded data removed]"
     },
     "metadata": {},
     "output_type": "display_data"
    }
   ],
   "source": [
    "%%R -i fit.s\n",
    "#fit.s[startsWith(fit.s$frag, 'ENST00000320623'),]\n",
    "fit.s %>% ggplot(aes(y=-log10(P), x=logASR)) + geom_point() #+ xlim(c(1,20))\n",
    "#merged.df[startsWith(merged.df$frag, 'ENST00000320623'),]"
   ]
  },
  {
   "cell_type": "code",
   "execution_count": 735,
   "metadata": {},
   "outputs": [
    {
     "data": {
      "image/png": "[encoded data removed]"
     },
     "metadata": {},
     "output_type": "display_data"
    }
   ],
   "source": [
    "%%R -i fit.s\n",
    "fit.s %>% filter(logASR>1) %>% ggplot(aes(x=-log10(q))) + geom_histogram() + xlim(c(1,20))"
   ]
  },
  {
   "cell_type": "code",
   "execution_count": 736,
   "metadata": {},
   "outputs": [],
   "source": [
    "%%R -i fit.s\n",
    "library(tidyverse)\n",
    "passed <- fit.s %>% filter(logASR>1 && -log10(q)>5) %>% select(frag) %>% pull()\n",
    "\n",
    "bed <- read_tsv('POLR2A_ChIPseq/combined/Human.GRC38.96_antisense.asRNA.sig.cor.polr2a.bed', col_names=F)\n",
    "colnames(bed) <- c(\"chr\", \"start\", \"end\", \"frag\", \"dummy\", \"strand\", \"transcripts\")\n",
    "write_tsv(bed %>% dplyr::filter(frag %in% passed), '09152015_MDA-LM2_RNA-seq/Human.GRC38.96_antisense.final.bed', col_names=F)"
   ]
  },
  {
   "cell_type": "code",
   "execution_count": 737,
   "metadata": {},
   "outputs": [
    {
     "name": "stdout",
     "output_type": "stream",
     "text": [
      "ENST00000003100\t2398\t3007\tENST00000003100:2398-3007\t1\t-\tENST00000003100-10,ENST00000003100-11\n",
      "ENST00000056233\t1227\t2019\tENST00000056233:1227-2019\t1\t-\tENST00000056233-6,ENST00000056233-7\n",
      "ENST00000056233\t2973\t3528\tENST00000056233:2973-3528\t1\t-\tENST00000056233-13\n",
      "ENST00000170447\t2561\t2752\tENST00000170447:2561-2752\t1\t-\tENST00000170447-11\n",
      "ENST00000192788\t6056\t6622\tENST00000192788:6056-6622\t1\t-\tENST00000192788-25,ENST00000192788-26,ENST00000192788-27\n",
      "ENST00000204726\t7425\t8328\tENST00000204726:7425-8328\t1\t-\tENST00000204726-29,ENST00000204726-30,ENST00000204726-33\n",
      "ENST00000209728\t2309\t2559\tENST00000209728:2309-2559\t1\t-\tENST00000209728-9,ENST00000209728-10\n",
      "ENST00000216034\t1327\t1712\tENST00000216034:1327-1712\t1\t-\tENST00000216034-6\n",
      "ENST00000216099\t44\t219\tENST00000216099:44-219\t1\t-\tENST00000216099-1\n",
      "ENST00000219313\t1008\t1490\tENST00000219313:1008-1490\t1\t-\tENST00000219313-5\n",
      "262 09152015_MDA-LM2_RNA-seq/Human.GRC38.96_antisense.final.bed\n"
     ]
    }
   ],
   "source": [
    "%%bash\n",
    "head 09152015_MDA-LM2_RNA-seq/Human.GRC38.96_antisense.final.bed\n",
    "wc -l 09152015_MDA-LM2_RNA-seq/Human.GRC38.96_antisense.final.bed"
   ]
  },
  {
   "cell_type": "markdown",
   "metadata": {},
   "source": [
    "## Filtering those asRNAs that overlap other genes and are likely artifacts"
   ]
  },
  {
   "cell_type": "code",
   "execution_count": 739,
   "metadata": {},
   "outputs": [
    {
     "name": "stdout",
     "output_type": "stream",
     "text": [
      "0\n",
      "100\n",
      "200\n"
     ]
    }
   ],
   "source": [
    "## Covert to genomic coordiantes for the negative control set\n",
    "bed = pd.read_csv('09152015_MDA-LM2_RNA-seq/Human.GRC38.96_antisense.final.bed', sep=\"\\t\", header=None)\n",
    "out = open('09152015_MDA-LM2_RNA-seq/Human.GRC38.96_antisense.final.chr.bed', 'wt')\n",
    "for i in bed.index.tolist():\n",
    "    if i%100==0:\n",
    "        print(i)\n",
    "    tid, tb, te, tn, td, ts, dummy = bed.loc[i,].tolist()\n",
    "    tmp = gdf.query(\"Feature=='exon' and transcript_id=='{}'\".format(tid))\n",
    "    if (tmp.empty):\n",
    "        continue\n",
    "    gchr = tmp['Chromosome'].tolist()[0]\n",
    "    gstrand = tmp['Strand'].tolist()[0]\n",
    "    starts = tmp['Start'].tolist()\n",
    "    ends = tmp['End'].tolist()\n",
    "    lens = tmp['length'].tolist()\n",
    "    if (gstrand=='-'):\n",
    "        starts.reverse()\n",
    "        lens.reverse()\n",
    "        gb, exb = get_genomic_pos(te+1, starts, lens, gstrand)\n",
    "        ge, exe = get_genomic_pos(tb+1, starts, lens, gstrand)\n",
    "        tstrand = '+'\n",
    "    else:\n",
    "        gb, exb = get_genomic_pos(tb+1, starts, lens, gstrand)\n",
    "        ge, exe = get_genomic_pos(te+1, starts, lens, gstrand)\n",
    "        gb = gb-2\n",
    "        ge = ge-2\n",
    "        tstrand = '-'\n",
    "    if (exe != exb):\n",
    "        continue\n",
    "    out.write(\"{}\\t{}\\t{}\\t{}\\t{}\\t{}\\n\".format(gchr, gb, ge, tn, td, tstrand, dummy))\n",
    "out.close()"
   ]
  },
  {
   "cell_type": "code",
   "execution_count": 740,
   "metadata": {},
   "outputs": [
    {
     "name": "stdout",
     "output_type": "stream",
     "text": [
      "262 09152015_MDA-LM2_RNA-seq/Human.GRC38.96_antisense.final.chr.bed\n"
     ]
    }
   ],
   "source": [
    "%%bash\n",
    "wc -l 09152015_MDA-LM2_RNA-seq/Human.GRC38.96_antisense.final.chr.bed"
   ]
  },
  {
   "cell_type": "code",
   "execution_count": 4,
   "metadata": {},
   "outputs": [],
   "source": [
    "%%bash\n",
    "grep -E -v --color=never \"antisense|pseudogene\" genome/gencode.v28.annotation.c.gtf > genome/gencode.v28.annotation.c.filt.gtf"
   ]
  },
  {
   "cell_type": "code",
   "execution_count": 7,
   "metadata": {},
   "outputs": [],
   "source": [
    "%%bash\n",
    "intersectBed -u -s -a 09152015_MDA-LM2_RNA-seq/Human.GRC38.96_antisense.final.chr.bed -b genome/gencode.v28.annotation.c.filt.gtf | cut -f4 > filter.list"
   ]
  },
  {
   "cell_type": "code",
   "execution_count": 9,
   "metadata": {},
   "outputs": [
    {
     "name": "stdout",
     "output_type": "stream",
     "text": [
      "204 Human.GRC38.96_antisense.final.filt.bed\n"
     ]
    }
   ],
   "source": [
    "%%bash\n",
    "grep -v --color=never -Ff filter.list 09152015_MDA-LM2_RNA-seq/Human.GRC38.96_antisense.final.bed > Human.GRC38.96_antisense.final.filt.bed\n",
    "wc -l Human.GRC38.96_antisense.final.filt.bed"
   ]
  },
  {
   "cell_type": "code",
   "execution_count": 10,
   "metadata": {},
   "outputs": [
    {
     "name": "stdout",
     "output_type": "stream",
     "text": [
      "204 Human.GRC38.96_antisense.final.chr.filt.bed\n"
     ]
    }
   ],
   "source": [
    "%%bash\n",
    "grep -v --color=never -Ff filter.list 09152015_MDA-LM2_RNA-seq/Human.GRC38.96_antisense.final.chr.bed > Human.GRC38.96_antisense.final.chr.filt.bed\n",
    "wc -l Human.GRC38.96_antisense.final.chr.filt.bed"
   ]
  },
  {
   "cell_type": "markdown",
   "metadata": {},
   "source": [
    "## Comparison of antisense RNA expression in poorly and highly metastatic cells"
   ]
  },
  {
   "cell_type": "code",
   "execution_count": 13,
   "metadata": {},
   "outputs": [],
   "source": [
    "# Extract the identified sequences\n",
    "fasta = {}\n",
    "with open(\"genome/Human.GRC38.96_cDNA_longest_CDS.fa\", \"rt\") as handle:\n",
    "    for record in SeqIO.parse(handle, \"fasta\"):\n",
    "        fasta[record.id] = str(record.seq)   \n",
    "\n",
    "from Bio.Seq import Seq\n",
    "\n",
    "with open(\"Human.GRC38.96_antisense.final.filt.bed\", \"rt\") as handle, open(\"Human.GRC38.96_antisense.final.filt.fa\", \"wt\") as out:\n",
    "    for l in handle:\n",
    "        l = re.sub(\"\\s+$\", \"\", l)\n",
    "        a = l.split('\\t')\n",
    "        s = fasta[a[0]]\n",
    "        subs = s[int(a[1]):int(a[2])]\n",
    "        if a[5]=='-':\n",
    "            subs = Seq(subs).reverse_complement()\n",
    "        out.write(\">{}\\n{}\\n\".format(a[3], subs))"
   ]
  },
  {
   "cell_type": "code",
   "execution_count": 741,
   "metadata": {},
   "outputs": [],
   "source": [
    "%%bash\n",
    "awk '{ if ($0 ~ \"transcript_id\") print $0 ; else print $0\" transcript_id \"\";\"; }' genome/gencode.v28.annotation.gtf | gtf2bed - | grep -w \"gene\" > genome/gencode.v28.annotation.bed"
   ]
  },
  {
   "cell_type": "code",
   "execution_count": 14,
   "metadata": {},
   "outputs": [],
   "source": [
    "%%bash\n",
    "intersectBed -s -u -f 0.75 -a Human.GRC38.96_antisense.final.chr.filt.bed -b genome/gencode.v28.annotation.bed > Human.GRC38.96_antisense.final.chr.ov.bed"
   ]
  },
  {
   "cell_type": "code",
   "execution_count": 15,
   "metadata": {},
   "outputs": [],
   "source": [
    "%%bash\n",
    "intersectBed -s -wo -f 0.75 -b Human.GRC38.96_antisense.final.chr.ov.bed -a genome/gencode.v28.annotation.bed > genome/gencode.v28.annotation.asRNA.matched.bed"
   ]
  },
  {
   "cell_type": "code",
   "execution_count": 16,
   "metadata": {},
   "outputs": [
    {
     "name": "stdout",
     "output_type": "stream",
     "text": [
      "chr16\t69709873\t69710583\tENSG00000261602.1\t.\t+\tHAVANA\tgene\t.\tgene_id \"ENSG00000261602.1\"; gene_type \"antisense\"; gene_name \"CTD-2033A16.1\"; level 2; havana_gene \"OTTHUMG00000176835.1\"; transcript_id ;\tchr16\t69709869\t69710576\tENST00000320623:1345-2052\t1\t+\t703\n"
     ]
    }
   ],
   "source": [
    "%%bash\n",
    "cat genome/gencode.v28.annotation.asRNA.matched.bed"
   ]
  },
  {
   "cell_type": "code",
   "execution_count": 17,
   "metadata": {},
   "outputs": [
    {
     "name": "stdout",
     "output_type": "stream",
     "text": [
      "ENSG00000261602.1\tENST00000320623:1345-2052\n"
     ]
    }
   ],
   "source": [
    "%%bash\n",
    "#remove previously annotated \n",
    "cut -f14,4 genome/gencode.v28.annotation.asRNA.matched.bed  > genome/gencode.v28.annotation.asRNA.matched.list\n",
    "cat genome/gencode.v28.annotation.asRNA.matched.list"
   ]
  },
  {
   "cell_type": "code",
   "execution_count": 18,
   "metadata": {},
   "outputs": [
    {
     "name": "stdout",
     "output_type": "stream",
     "text": [
      "['ENST00000320623:1345-2052']\n"
     ]
    }
   ],
   "source": [
    "exclude = [line.rstrip('\\n').split('\\t')[1] for line in open('genome/gencode.v28.annotation.asRNA.matched.list')]\n",
    "print(exclude)"
   ]
  },
  {
   "cell_type": "code",
   "execution_count": 19,
   "metadata": {},
   "outputs": [],
   "source": [
    "import gzip\n",
    "from Bio import SeqIO\n",
    "# Merge the two sets: sense/antisense\n",
    "\n",
    "out = gzip.open(\"genome/gencode.v28.transcripts.combined.fa.gz\", \"wt\")\n",
    "tx2gene = open(\"genome/gencode.v28.transcripts.combined.tx2gene.cvs\", \"wt\")\n",
    "tx2gene.write(\"TXNAME\\tGENEID\\n\")\n",
    "\n",
    "with gzip.open(\"genome/gencode.v28.transcripts.fa.gz\", \"rt\") as handle:\n",
    "    for record in SeqIO.parse(handle, \"fasta\"):\n",
    "        txid = record.id.split(\"|\")[0]\n",
    "        gid = record.id.split(\"|\")[1]\n",
    "        out.write(\">{}\\n{}\\n\".format(txid, str(record.seq)))\n",
    "        tx2gene.write(\"{}\\t{}\\n\".format(txid,gid))\n",
    "\n",
    "with open(\"Human.GRC38.96_antisense.final.filt.fa\", \"rt\") as handle:\n",
    "    for record in SeqIO.parse(handle, \"fasta\"):\n",
    "        txid = record.id\n",
    "        if (txid in exclude):\n",
    "            continue\n",
    "        out.write(\">{}\\n{}\\n\".format(txid, str(record.seq)))\n",
    "        tx2gene.write(\"{}\\t{}\\n\".format(txid,txid))\n",
    "out.close()\n",
    "tx2gene.close()"
   ]
  },
  {
   "cell_type": "code",
   "execution_count": null,
   "metadata": {},
   "outputs": [],
   "source": [
    "%%bash\n",
    "salmon index -t genome/gencode.v28.transcripts.combined.fa.gz -i genome/gencode.v28.transcripts.combined.salmon.index"
   ]
  },
  {
   "cell_type": "code",
   "execution_count": null,
   "metadata": {},
   "outputs": [],
   "source": [
    "%%bash\n",
    "for f in 09152015_MDA-LM2_RNA-seq/*.trim.fastq.gz; do\n",
    "out=${f/.trim.fastq.gz/_salmon}\n",
    "echo \"salmon quant --validateMappings -i genome/gencode.v28.transcripts.combined.salmon.index -l SF -r $f -p 24 -o $out\"; \n",
    "salmon quant --validateMappings -i genome/gencode.v28.transcripts.combined.salmon.index -l SF -r $f -p 4 -o $out &\n",
    "done"
   ]
  },
  {
   "cell_type": "code",
   "execution_count": 28,
   "metadata": {},
   "outputs": [
    {
     "data": {
      "text/plain": [
       "log2 fold change (MLE): cond LM2 vs MDA \n",
       "Wald test p-value: cond LM2 vs MDA \n",
       "DataFrame with 6 rows and 6 columns\n",
       "                          baseMean     log2FoldChange            lfcSE\n",
       "                         <numeric>          <numeric>        <numeric>\n",
       "ENST00000456328.2 6.28601808783261  -1.63594870900976  2.4236349311132\n",
       "ENST00000450305.2                0                 NA               NA\n",
       "ENST00000488147.1 2.57331287127224  0.838294271307313 4.33677596058183\n",
       "ENST00000619216.1  1.2350387705869 -0.288548329319094 3.71224218929596\n",
       "ENST00000473358.1                0                 NA               NA\n",
       "ENST00000469289.1                0                 NA               NA\n",
       "                                 stat            pvalue              padj\n",
       "                            <numeric>         <numeric>         <numeric>\n",
       "ENST00000456328.2  -0.674997990831216 0.499677041438402 0.999893615869857\n",
       "ENST00000450305.2                  NA                NA                NA\n",
       "ENST00000488147.1   0.193298957319171 0.846724842868817                NA\n",
       "ENST00000619216.1 -0.0777288535082941 0.938043741754347                NA\n",
       "ENST00000473358.1                  NA                NA                NA\n",
       "ENST00000469289.1                  NA                NA                NA\n"
      ]
     },
     "metadata": {},
     "output_type": "display_data"
    }
   ],
   "source": [
    "%%R\n",
    "#Transcripts\n",
    "library(tximport)\n",
    "library(readr)\n",
    "\n",
    "files <- list.files(\"09152015_MDA-LM2_RNA-seq\", pattern=\"quant.sf\",full.names = TRUE, recursive=T)\n",
    "\n",
    "tx2gene <- read_tsv(\"genome/gencode.v28.transcripts.combined.tx2gene.cvs\")\n",
    "\n",
    "names(files) <- gsub(\"09152015_MDA-LM2_RNA-seq/(\\\\S+)_salmon/quant.sf\",\"\\\\1\",files)\n",
    "txi <- tximport(files, type = \"salmon\", txOut=T)\n",
    "\n",
    "txi.gene <- summarizeToGene(txi, tx2gene)\n",
    "head(txi.gene$counts)\n",
    "cond <- c(\"LM2\", \"LM2\", \"MDA\", \"MDA\")\n",
    "colData <- data.frame(cond, row.names=colnames(txi.gene$abundance))\n",
    "library(DESeq2)\n",
    "dds <- DESeqDataSetFromTximport(txi.gene, colData, ~cond)\n",
    "dds$cond<- relevel(dds$cond, ref=\"MDA\")\n",
    "dds <- DESeq(dds)\n",
    "res.g.gene <- results(dds)\n",
    "#write.table(txi.gene$abundance, \"09152015_MDA-LM2_RNA-seq/gene_abudance_salmon.txt\", sep=\"\\t\", quote=FALSE, col.names=NA )\n",
    "#write.table(txi.gene$counts, \"09152015_MDA-LM2_RNA-seq/gene_ncount_salmon.txt\", sep=\"\\t\", quote=FALSE, col.names=NA )\n",
    "\n",
    "cond <- c(\"LM2\", \"LM2\", \"MDA\", \"MDA\")\n",
    "colData <- data.frame(cond, row.names=colnames(txi$abundance))\n",
    "library(DESeq2)\n",
    "dds <- DESeqDataSetFromTximport(txi, colData, ~cond)\n",
    "dds$cond<- relevel(dds$cond, ref=\"MDA\")\n",
    "dds <- DESeq(dds)\n",
    "res <- results(dds)\n",
    "#write.table(txi$abundance, \"09152015_MDA-LM2_RNA-seq/tx_abudance_salmon.txt\", sep=\"\\t\", quote=FALSE, col.names=NA )\n",
    "#write.table(txi$counts, \"09152015_MDA-LM2_RNA-seq/tx_ncount_salmon.txt\", sep=\"\\t\", quote=FALSE, col.names=NA )\n",
    "head(res)"
   ]
  },
  {
   "cell_type": "code",
   "execution_count": 3,
   "metadata": {},
   "outputs": [
    {
     "data": {
      "image/png": "[encoded data removed]"
     },
     "metadata": {},
     "output_type": "display_data"
    }
   ],
   "source": [
    "%%R\n",
    "library(tidyverse)\n",
    "m <- read_tsv('09152015_MDA-LM2_RNA-seq/asRNA_gene_logASR_logit.txt')\n",
    "m <- m %>% mutate(sig = ifelse(logASR>0.5 & q<0.01, FALSE, TRUE) )\n",
    "m %>% ggplot(aes(x=logASR, y=-log10(P), color=sig)) + geom_point(size=1) +xlim(c(-2,5)) + theme_bw(12) + theme(panel.grid.minor = element_blank())\n",
    "#ggsave(\"09152015_MDA-LM2_RNA-seq/asRNA_gene_logASR_logit_volcano.pdf\", useDingbats=F, width=4, height=3)"
   ]
  },
  {
   "cell_type": "code",
   "execution_count": 29,
   "metadata": {},
   "outputs": [
    {
     "data": {
      "image/png": "[encoded data removed]"
     },
     "metadata": {},
     "output_type": "display_data"
    }
   ],
   "source": [
    "%%R\n",
    "library(tidyverse)\n",
    "## annotated asRNAs:\n",
    "matched <- read_tsv('genome/gencode.v28.annotation.asRNA.matched.list', col_names=F)\n",
    "colnames(matched) <- c(\"GENEID\", \"TXNAME\")\n",
    "list.m <- matched %>% dplyr::left_join(tx2gene, by = 'GENEID')\n",
    "res$tx <- rownames(res)\n",
    "res[list.m$TXNAME.y,'tx'] <- list.m$TXNAME.x\n",
    "res <- as_tibble(res)\n",
    "as.rna <- grepl(\"\\\\S+:\\\\d+-\\\\d+\", res$tx)\n",
    "res.as <- res %>% filter(as.rna)\n",
    "res.g <- res %>% filter(!as.rna)\n",
    "#as.rna\n",
    "res.as <- res.as %>% mutate(gene=gsub(\":\\\\d+-\\\\d+\", \"\", tx))\n",
    "res.g <- res.g %>% mutate(gene=gsub(\"\\\\.\\\\d+\", \"\", tx))\n",
    "res.as %>% ggplot(aes(x=log2FoldChange, y=-log10(pvalue), color=factor(!padj<0.25))) + geom_point() + theme_bw()\n",
    "#write_tsv(res.as, '09152015_MDA-LM2_RNA-seq/asRNA_salmon_logFC.txt')\n",
    "#ggsave(\"antisense_MDA-LM2_volcano.pdf\", useDingbats=F)\n"
   ]
  },
  {
   "cell_type": "code",
   "execution_count": 5,
   "metadata": {},
   "outputs": [
    {
     "data": {
      "image/png": "[encoded data removed]"
     },
     "metadata": {},
     "output_type": "display_data"
    }
   ],
   "source": [
    "%%R\n",
    "library(ggrepel)\n",
    "library(tidyverse)\n",
    "#res.as$gene\n",
    "tx2gene <- tx2gene %>% mutate(txid=gsub(\"\\\\.\\\\d+\", \"\",TXNAME))\n",
    "res.g.gene$GENEID <- rownames(res.g.gene)\n",
    "res.g.gene <- as_tibble(res.g.gene)\n",
    "merged <- inner_join(res.as, tx2gene, by=c('gene'='txid'))\n",
    "merged <- inner_join(merged, res.g.gene, by='GENEID')\n",
    "merged <- merged %>% mutate(padj.x = ifelse(is.na(padj.x),1,padj.x))\n",
    "merged <- merged %>% mutate( t = factor(ifelse(GENEID=='ENSG00000181019.12', 2, ifelse(padj.x<0.25,1,0))))\n",
    "merged <- merged %>% mutate( label = ifelse(t==2, GENEID, \"\"))\n",
    "merged %>% ggplot(aes(x=log2FoldChange.x, y=log2FoldChange.y, color=t, label=label)) + geom_point() + ylim(c(-2,2)) + scale_colour_manual(values=c(\"0\"=\"black\", \"1\"=\"blue\", \"2\"=\"red\")) + geom_text_repel() + xlim(c(-2.5,2.5)) + theme_bw()\n",
    "#ggsave(\"antisense_vs_sense_MDA-LM2_logFC.pdf\", useDingbats=F)"
   ]
  },
  {
   "cell_type": "code",
   "execution_count": 28,
   "metadata": {},
   "outputs": [
    {
     "data": {
      "text/plain": [
       "\u001b[90m# A tibble: 3 x 4\u001b[39m\n",
       "  tx                        gene            TXNAME            GENEID            \n",
       "  \u001b[3m\u001b[90m<chr>\u001b[39m\u001b[23m                     \u001b[3m\u001b[90m<chr>\u001b[39m\u001b[23m           \u001b[3m\u001b[90m<chr>\u001b[39m\u001b[23m             \u001b[3m\u001b[90m<chr>\u001b[39m\u001b[23m             \n",
       "\u001b[90m1\u001b[39m ENST00000320623:1345-2052 ENST00000320623 ENST00000320623.9 ENSG00000181019.12\n",
       "\u001b[90m2\u001b[39m ENST00000056233:1227-2019 ENST00000056233 ENST00000056233.3 ENSG00000050344.8 \n",
       "\u001b[90m3\u001b[39m ENST00000056233:2973-3528 ENST00000056233 ENST00000056233.3 ENSG00000050344.8 \n"
      ]
     },
     "metadata": {},
     "output_type": "display_data"
    }
   ],
   "source": [
    "%%R -i merged\n",
    "merged %>% filter(t==1 | t==2) %>% select(tx, gene, TXNAME, GENEID)"
   ]
  },
  {
   "cell_type": "markdown",
   "metadata": {},
   "source": [
    "#### Selected Genes\n",
    "NQO1, NFE2L3, MRFAP1\n"
   ]
  },
  {
   "cell_type": "code",
   "execution_count": 29,
   "metadata": {},
   "outputs": [
    {
     "data": {
      "text/plain": [
       "\u001b[90m# A tibble: 3 x 5\u001b[39m\n",
       "  log2FoldChange  pvalue   padj tx                        gene           \n",
       "           \u001b[3m\u001b[90m<dbl>\u001b[39m\u001b[23m   \u001b[3m\u001b[90m<dbl>\u001b[39m\u001b[23m  \u001b[3m\u001b[90m<dbl>\u001b[39m\u001b[23m \u001b[3m\u001b[90m<chr>\u001b[39m\u001b[23m                     \u001b[3m\u001b[90m<chr>\u001b[39m\u001b[23m          \n",
       "\u001b[90m1\u001b[39m           1.38 0.011\u001b[4m9\u001b[24m  0.163  ENST00000320623:1345-2052 ENST00000320623\n",
       "\u001b[90m2\u001b[39m           1.02 0.006\u001b[4m8\u001b[24m\u001b[4m6\u001b[24m 0.111  ENST00000056233:1227-2019 ENST00000056233\n",
       "\u001b[90m3\u001b[39m           1.57 0.002\u001b[4m5\u001b[24m\u001b[4m9\u001b[24m 0.054\u001b[4m3\u001b[24m ENST00000056233:2973-3528 ENST00000056233\n"
      ]
     },
     "metadata": {},
     "output_type": "display_data"
    }
   ],
   "source": [
    "%%R -i res,res.as,res.g\n",
    "selected <- c(\"ENST00000320623:1345-2052\", \"ENST00000056233:1227-2019\", \"ENST00000056233:2973-3528\")\n",
    "res.as[res.as$tx %in% selected,] %>% select (-c(lfcSE, stat,baseMean))\n",
    "#txi$abundance[startsWith(rownames(txi$abundance), 'ENST00000320623'),]"
   ]
  },
  {
   "cell_type": "code",
   "execution_count": 30,
   "metadata": {},
   "outputs": [
    {
     "data": {
      "text/plain": [
       "['ENST00000320623:1345-2052']"
      ]
     },
     "execution_count": 30,
     "metadata": {},
     "output_type": "execute_result"
    }
   ],
   "source": [
    "exclude"
   ]
  },
  {
   "cell_type": "code",
   "execution_count": 31,
   "metadata": {},
   "outputs": [
    {
     "name": "stdout",
     "output_type": "stream",
     "text": [
      ">ENST00000056233:1227-2019\n",
      "TCTGTCAGATAATATCTACTTAACATGCTATTGAAAGAATCAACAGGCATGCCGACAATTTCATCTACAGAAAAAGGGATATGCAAAGCTTTAGCACGCTGTTCATCACGGCTCAAGTTTCTATCTGTGTCTTCAAGGTATCTACTCCTTATCTTCTGTGACTTCCCAGGCCACGGAAAAGGTTCAGAAGTAGATTCTGGTGCAGTTGGCTGTAAGTGGTAAGTGTGGTTATGAAATACGTGTTGAAATGTAAGATCTCCATGGAAATCAGAATCACTTTGATCCAAGTGACAAAGCTTACTGGGTTCTGGGTAGTAGCCACCTACAGCACCTTCTAAGTCATGATGGGAACTAGATTCATGGTCAGTGCAATAACCTATAGCACCTTCATCACACACAGAGTGAGAGGAATTAGACTTGATGACAGAGGTATTATTGTGACTTGAATCTAAAGAAAGGCCAGAATCAGAATCTGGTTCATCAAAAAGCTGAGAAACATCGATTGGATCAAAGTTGTCTTCTGTGGCCAATGACATTAAGTTTATCTCATCAAATATATTTATGTCAAGGTCATACAGTAGGTCTTGGCTTGTTAGATTCCTCATATGATTGTCAACCGGTGAAAGAAATCCTGTCAAATTAGTTCCAGGAAGGGTTTGCTCAGGATTGGTGGTATGAGAATTTAACTGCAGAAATGGTTCTTGTGACTGTGAAGTCCTTGCTGTTGGATCTCTTCTAAATGTATTGTTGGGACAAAGCAAGATGGCCTCATGAAGATTCACATCCTGACTT\n",
      ">ENST00000056233:2973-3528\n",
      "TCTAGGTGAGGTCATTGCTGTCTTCAAAAAATTCAGCAATCTCCTGTTTACTGTTCTAGTGAACTTAAGTGAGGTTTTCATTTCAAATGCTATTATTTCTAGAATTTACCTTACCCTGGTTTATTTTCAAATTCACCTGTTTTTTTTCCCTTAATCGCTTTTGCCCATTTTAAACAGATGGTTTCACTGTTGCTGACTCTTTCCCTACTGTTTATATGGCTTACAGTGTTCTGGTGAGATCTCAGTATTCTAAGATGGTGAGGCCATCCCTTCAGGCTGGCTTTACTGCCAGAGATTTTATGGATTTAATATACACACAAGGAGTTACGTTTTTGCAAGTAGCCCATTCTGTCTCTGGTTACATGAGGAAGGCCTGTGGCTCAAACTACCAGTGACCGTAGGTCTTCAGTGCATTCTATATCACATAGTATTCTGTGTGTTAAGTATTGGGGTAGGGGGGTGGATTTGCCTTACTATGGATTTGGCATACTATGTTGACCTCAATTTGGCTTGAGTCTGAGCAGTTTGCTATGCTGCCTTATTTGTTATTCACCT\n"
     ]
    }
   ],
   "source": [
    "%%bash\n",
    "grep -A1 -E \"ENST00000056233:1227-2019|ENST00000056233:2973-3528\" Human.GRC38.96_antisense.final.filt.fa"
   ]
  },
  {
   "cell_type": "code",
   "execution_count": 32,
   "metadata": {},
   "outputs": [
    {
     "name": "stdout",
     "output_type": "stream",
     "text": [
      "chr7\t26184624\t26185416\tENST00000056233:1227-2019\t1\t-\n",
      "chr7\t26186370\t26186925\tENST00000056233:2973-3528\t1\t-\n",
      "chr6\t34874003\t34874569\tENST00000192788:6056-6622\t1\t-\n"
     ]
    }
   ],
   "source": [
    "%%bash\n",
    "grep -A1 -E \"ENST00000056233:1227-2019|ENST00000056233:2973-3528\" Human.GRC38.96_antisense.final.chr.filt.bed"
   ]
  },
  {
   "cell_type": "markdown",
   "metadata": {},
   "source": [
    "### Find the enrichment between annotated asRNAs and those identified by iRAs"
   ]
  },
  {
   "cell_type": "code",
   "execution_count": 2,
   "metadata": {},
   "outputs": [
    {
     "name": "stderr",
     "output_type": "stream",
     "text": [
      "/avicenna/hani/anaconda3/lib/python3.6/site-packages/rpy2/robjects/pandas2ri.py:17: FutureWarning: pandas.core.index is deprecated and will be removed in a future version.  The public classes are available in the top-level namespace.\n",
      "  from pandas.core.index import Index as PandasIndex\n"
     ]
    }
   ],
   "source": [
    "%load_ext rpy2.ipython\n",
    "import warnings\n",
    "warnings.filterwarnings('ignore')"
   ]
  },
  {
   "cell_type": "code",
   "execution_count": 3,
   "metadata": {},
   "outputs": [
    {
     "data": {
      "text/plain": [
       "# A tibble: 203,230 x 5\n",
       "   X1                `MDA-LM2_r1` `MDA-LM2_r2` `MDA-Par_r1` `MDA-Par_r2`\n",
       "   <chr>                    <dbl>        <dbl>        <dbl>        <dbl>\n",
       " 1 ENST00000456328.2       0.0277       0            0.0454       0.0235\n",
       " 2 ENST00000450305.2       0            0            0            0     \n",
       " 3 ENST00000488147.1       0            0.0386       0.0165       0     \n",
       " 4 ENST00000619216.1       0            3.91         0.896        3.84  \n",
       " 5 ENST00000473358.1       0            0            0            0     \n",
       " 6 ENST00000469289.1       0            0            0            0     \n",
       " 7 ENST00000607096.1       0            0            0            0     \n",
       " 8 ENST00000417324.1       0            0            0            0     \n",
       " 9 ENST00000461467.1       0.499        0.331        0.251        0.663 \n",
       "10 ENST00000606857.1       0            0            0            0     \n",
       "# … with 203,220 more rows\n"
      ]
     },
     "metadata": {},
     "output_type": "display_data"
    }
   ],
   "source": [
    "%%R\n",
    "library(tidyverse)\n",
    "m <- read_tsv('09152015_MDA-LM2_RNA-seq/tx_abudance_salmon.txt')\n",
    "m"
   ]
  },
  {
   "cell_type": "code",
   "execution_count": 5,
   "metadata": {},
   "outputs": [
    {
     "data": {
      "text/plain": [
       "          0%          10%          20%          30%          40%          50% \n",
       "0.000000e+00 0.000000e+00 0.000000e+00 1.486200e-02 5.021400e-02 1.502095e-01 \n",
       "         60%          70%          80%          90%         100% \n",
       "3.941636e-01 9.135541e-01 2.101013e+00 6.130537e+00 4.988775e+05 \n"
      ]
     },
     "metadata": {},
     "output_type": "display_data"
    }
   ],
   "source": [
    "%%R\n",
    "quantile(rowSums(select(m,-X1)), seq(0,1,0.1))"
   ]
  },
  {
   "cell_type": "code",
   "execution_count": 9,
   "metadata": {},
   "outputs": [
    {
     "data": {
      "text/plain": [
       "[1] \"ENST00000619216.1\" \"ENST00000461467.1\" \"ENST00000494149.2\"\n",
       "[4] \"ENST00000595919.1\" \"ENST00000493797.1\" \"ENST00000484859.1\"\n"
      ]
     },
     "metadata": {},
     "output_type": "display_data"
    }
   ],
   "source": [
    "%%R\n",
    "th <- quantile(rowSums(select(m,-X1)), 0.75)\n",
    "expressed.tx <- m %>% mutate(sums = rowSums(.[2:5])) %>% filter(sums>th) %>% pull(X1)\n",
    "head(expressed.tx)"
   ]
  },
  {
   "cell_type": "code",
   "execution_count": 15,
   "metadata": {},
   "outputs": [],
   "source": [
    "%%R\n",
    "write.table(matrix(expressed.tx, length(expressed.tx), 1), '09152015_MDA-LM2_RNA-seq/tx_abudance_salmon_expressed.list', quote=F, col.names=F, row.names=F)"
   ]
  },
  {
   "cell_type": "code",
   "execution_count": 19,
   "metadata": {},
   "outputs": [
    {
     "name": "stdout",
     "output_type": "stream",
     "text": [
      "ENSG00000000003.14\n",
      "ENSG00000000419.12\n",
      "ENSG00000000457.13\n",
      "ENSG00000000460.16\n",
      "ENSG00000000971.15\n",
      "ENSG00000001036.13\n",
      "ENSG00000001084.11\n",
      "ENSG00000001167.14\n",
      "ENSG00000001460.17\n",
      "ENSG00000001461.16\n"
     ]
    }
   ],
   "source": [
    "%%bash\n",
    "grep -Ff 09152015_MDA-LM2_RNA-seq/tx_abudance_salmon_expressed.list genome/gencode.v28.transcripts.combined.tx2gene.cvs | cut -f2 | sort -u \\\n",
    "       > 09152015_MDA-LM2_RNA-seq/tx_abudance_salmon_expressed_genes.list\n",
    "head 09152015_MDA-LM2_RNA-seq/tx_abudance_salmon_expressed_genes.list"
   ]
  },
  {
   "cell_type": "code",
   "execution_count": 29,
   "metadata": {},
   "outputs": [
    {
     "name": "stdout",
     "output_type": "stream",
     "text": [
      "2271\n"
     ]
    }
   ],
   "source": [
    "%%bash\n",
    "grep -w gene genome/gencode.v28.annotation.c.gtf | \\\n",
    "grep -E --color=never \"antisense|pseudogene\" | \\\n",
    "grep -Ff 09152015_MDA-LM2_RNA-seq/tx_abudance_salmon_expressed_genes.list - | wc -l"
   ]
  },
  {
   "cell_type": "code",
   "execution_count": 28,
   "metadata": {},
   "outputs": [
    {
     "name": "stdout",
     "output_type": "stream",
     "text": [
      "17205\n"
     ]
    }
   ],
   "source": [
    "%%bash\n",
    "grep -w gene genome/gencode.v28.annotation.c.gtf | \\\n",
    "grep -Ff 09152015_MDA-LM2_RNA-seq/tx_abudance_salmon_expressed_genes.list - | wc -l"
   ]
  },
  {
   "cell_type": "code",
   "execution_count": 35,
   "metadata": {},
   "outputs": [],
   "source": [
    "%%bash\n",
    "grep -w gene genome/gencode.v28.annotation.c.gtf | \\\n",
    "grep -E --color=never \"antisense|pseudogene\" > genome/gencode.v28.annotated.asRNA.gtf\n",
    "#grep -Ff 09152015_MDA-LM2_RNA-seq/tx_abudance_salmon_expressed_genes.list - > genome/gencode.v28.annotated.asRNA.gtf"
   ]
  },
  {
   "cell_type": "code",
   "execution_count": 43,
   "metadata": {},
   "outputs": [
    {
     "name": "stdout",
     "output_type": "stream",
     "text": [
      "20\n"
     ]
    }
   ],
   "source": [
    "%%bash\n",
    "intersectBed -u -f 0.75 -s -a 09152015_MDA-LM2_RNA-seq/Human.GRC38.96_antisense.final.chr.bed -b genome/gencode.v28.annotated.asRNA.gtf | wc -l"
   ]
  },
  {
   "cell_type": "code",
   "execution_count": 33,
   "metadata": {},
   "outputs": [
    {
     "name": "stdout",
     "output_type": "stream",
     "text": [
      "262 09152015_MDA-LM2_RNA-seq/Human.GRC38.96_antisense.final.chr.bed\n"
     ]
    }
   ],
   "source": [
    "%%bash\n",
    "wc -l 09152015_MDA-LM2_RNA-seq/Human.GRC38.96_antisense.final.chr.bed"
   ]
  },
  {
   "cell_type": "code",
   "execution_count": 38,
   "metadata": {},
   "outputs": [
    {
     "name": "stdout",
     "output_type": "stream",
     "text": [
      "20223 genome/gencode.v28.annotated.asRNA.gtf\n"
     ]
    }
   ],
   "source": [
    "!wc -l genome/gencode.v28.annotated.asRNA.gtf"
   ]
  },
  {
   "cell_type": "code",
   "execution_count": 40,
   "metadata": {},
   "outputs": [
    {
     "data": {
      "text/plain": [
       "1.1317247759471448e-22"
      ]
     },
     "execution_count": 40,
     "metadata": {},
     "output_type": "execute_result"
    }
   ],
   "source": [
    "from scipy.stats import hypergeom\n",
    "hypergeom.cdf(23, 58377, 20223, 262)"
   ]
  },
  {
   "cell_type": "code",
   "execution_count": 39,
   "metadata": {},
   "outputs": [
    {
     "name": "stdout",
     "output_type": "stream",
     "text": [
      "58377\n"
     ]
    }
   ],
   "source": [
    "!grep -w gene genome/gencode.v28.annotation.c.gtf | wc -l"
   ]
  },
  {
   "cell_type": "code",
   "execution_count": null,
   "metadata": {},
   "outputs": [],
   "source": []
  }
 ],
 "metadata": {
  "kernelspec": {
   "display_name": "Python 3",
   "language": "python",
   "name": "python3"
  },
  "language_info": {
   "codemirror_mode": {
    "name": "ipython",
    "version": 3
   },
   "file_extension": ".py",
   "mimetype": "text/x-python",
   "name": "python",
   "nbconvert_exporter": "python",
   "pygments_lexer": "ipython3",
   "version": "3.6.15"
  }
 },
 "nbformat": 4,
 "nbformat_minor": 2
}
